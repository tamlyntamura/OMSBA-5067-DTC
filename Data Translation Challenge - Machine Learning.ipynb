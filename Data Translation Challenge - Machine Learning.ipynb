{
 "cells": [
  {
   "cell_type": "code",
   "execution_count": 915,
   "metadata": {},
   "outputs": [],
   "source": [
    "import numpy as np \n",
    "import pandas as pd \n",
    "#import os\n",
    "#import statsmodels.formula.api as stats\n",
    "#from statsmodels.formula.api import ols\n",
    "import sklearn\n",
    "from sklearn import linear_model, datasets\n",
    "from sklearn.metrics import mean_squared_error\n",
    "import plotly as py \n",
    "import plotly.graph_objs as go\n",
    "from plotly.offline import download_plotlyjs, init_notebook_mode, plot, iplot\n",
    "#init_notebook_mode(connected=True)"
   ]
  },
  {
   "cell_type": "code",
   "execution_count": 916,
   "metadata": {},
   "outputs": [],
   "source": [
    "WHR_2019 = pd.read_csv(\"2019.csv\")\n",
    "\n",
    "\n",
    "WHR_2019.columns = ['Rank', 'Country', 'Score','GDP_Per_Capita', 'Social_Support', 'Healthy_Life_Expectancy', \n",
    "                    'Freedom_to_Make_Life_Choices', 'Generosity', 'Perceptions_of_Corruption']\n",
    "                    "
   ]
  },
  {
   "cell_type": "code",
   "execution_count": 917,
   "metadata": {},
   "outputs": [
    {
     "data": {
      "text/html": [
       "<div>\n",
       "<style scoped>\n",
       "    .dataframe tbody tr th:only-of-type {\n",
       "        vertical-align: middle;\n",
       "    }\n",
       "\n",
       "    .dataframe tbody tr th {\n",
       "        vertical-align: top;\n",
       "    }\n",
       "\n",
       "    .dataframe thead th {\n",
       "        text-align: right;\n",
       "    }\n",
       "</style>\n",
       "<table border=\"1\" class=\"dataframe\">\n",
       "  <thead>\n",
       "    <tr style=\"text-align: right;\">\n",
       "      <th></th>\n",
       "      <th>Country name</th>\n",
       "      <th>Regional indicator</th>\n",
       "      <th>Ladder score</th>\n",
       "      <th>Standard error of ladder score</th>\n",
       "      <th>upperwhisker</th>\n",
       "      <th>lowerwhisker</th>\n",
       "      <th>Logged GDP per capita</th>\n",
       "      <th>Social support</th>\n",
       "      <th>Healthy life expectancy</th>\n",
       "      <th>Freedom to make life choices</th>\n",
       "      <th>Generosity</th>\n",
       "      <th>Perceptions of corruption</th>\n",
       "      <th>Ladder score in Dystopia</th>\n",
       "      <th>Explained by: Log GDP per capita</th>\n",
       "      <th>Explained by: Social support</th>\n",
       "      <th>Explained by: Healthy life expectancy</th>\n",
       "      <th>Explained by: Freedom to make life choices</th>\n",
       "      <th>Explained by: Generosity</th>\n",
       "      <th>Explained by: Perceptions of corruption</th>\n",
       "      <th>Dystopia + residual</th>\n",
       "    </tr>\n",
       "  </thead>\n",
       "  <tbody>\n",
       "    <tr>\n",
       "      <th>0</th>\n",
       "      <td>Finland</td>\n",
       "      <td>Western Europe</td>\n",
       "      <td>7.842</td>\n",
       "      <td>0.032</td>\n",
       "      <td>7.904</td>\n",
       "      <td>7.780</td>\n",
       "      <td>10.775</td>\n",
       "      <td>0.954</td>\n",
       "      <td>72.0</td>\n",
       "      <td>0.949</td>\n",
       "      <td>-0.098</td>\n",
       "      <td>0.186</td>\n",
       "      <td>2.43</td>\n",
       "      <td>1.446</td>\n",
       "      <td>1.106</td>\n",
       "      <td>0.741</td>\n",
       "      <td>0.691</td>\n",
       "      <td>0.124</td>\n",
       "      <td>0.481</td>\n",
       "      <td>3.253</td>\n",
       "    </tr>\n",
       "    <tr>\n",
       "      <th>1</th>\n",
       "      <td>Denmark</td>\n",
       "      <td>Western Europe</td>\n",
       "      <td>7.620</td>\n",
       "      <td>0.035</td>\n",
       "      <td>7.687</td>\n",
       "      <td>7.552</td>\n",
       "      <td>10.933</td>\n",
       "      <td>0.954</td>\n",
       "      <td>72.7</td>\n",
       "      <td>0.946</td>\n",
       "      <td>0.030</td>\n",
       "      <td>0.179</td>\n",
       "      <td>2.43</td>\n",
       "      <td>1.502</td>\n",
       "      <td>1.108</td>\n",
       "      <td>0.763</td>\n",
       "      <td>0.686</td>\n",
       "      <td>0.208</td>\n",
       "      <td>0.485</td>\n",
       "      <td>2.868</td>\n",
       "    </tr>\n",
       "    <tr>\n",
       "      <th>2</th>\n",
       "      <td>Switzerland</td>\n",
       "      <td>Western Europe</td>\n",
       "      <td>7.571</td>\n",
       "      <td>0.036</td>\n",
       "      <td>7.643</td>\n",
       "      <td>7.500</td>\n",
       "      <td>11.117</td>\n",
       "      <td>0.942</td>\n",
       "      <td>74.4</td>\n",
       "      <td>0.919</td>\n",
       "      <td>0.025</td>\n",
       "      <td>0.292</td>\n",
       "      <td>2.43</td>\n",
       "      <td>1.566</td>\n",
       "      <td>1.079</td>\n",
       "      <td>0.816</td>\n",
       "      <td>0.653</td>\n",
       "      <td>0.204</td>\n",
       "      <td>0.413</td>\n",
       "      <td>2.839</td>\n",
       "    </tr>\n",
       "    <tr>\n",
       "      <th>3</th>\n",
       "      <td>Iceland</td>\n",
       "      <td>Western Europe</td>\n",
       "      <td>7.554</td>\n",
       "      <td>0.059</td>\n",
       "      <td>7.670</td>\n",
       "      <td>7.438</td>\n",
       "      <td>10.878</td>\n",
       "      <td>0.983</td>\n",
       "      <td>73.0</td>\n",
       "      <td>0.955</td>\n",
       "      <td>0.160</td>\n",
       "      <td>0.673</td>\n",
       "      <td>2.43</td>\n",
       "      <td>1.482</td>\n",
       "      <td>1.172</td>\n",
       "      <td>0.772</td>\n",
       "      <td>0.698</td>\n",
       "      <td>0.293</td>\n",
       "      <td>0.170</td>\n",
       "      <td>2.967</td>\n",
       "    </tr>\n",
       "    <tr>\n",
       "      <th>4</th>\n",
       "      <td>Netherlands</td>\n",
       "      <td>Western Europe</td>\n",
       "      <td>7.464</td>\n",
       "      <td>0.027</td>\n",
       "      <td>7.518</td>\n",
       "      <td>7.410</td>\n",
       "      <td>10.932</td>\n",
       "      <td>0.942</td>\n",
       "      <td>72.4</td>\n",
       "      <td>0.913</td>\n",
       "      <td>0.175</td>\n",
       "      <td>0.338</td>\n",
       "      <td>2.43</td>\n",
       "      <td>1.501</td>\n",
       "      <td>1.079</td>\n",
       "      <td>0.753</td>\n",
       "      <td>0.647</td>\n",
       "      <td>0.302</td>\n",
       "      <td>0.384</td>\n",
       "      <td>2.798</td>\n",
       "    </tr>\n",
       "  </tbody>\n",
       "</table>\n",
       "</div>"
      ],
      "text/plain": [
       "  Country name Regional indicator  Ladder score  \\\n",
       "0      Finland     Western Europe         7.842   \n",
       "1      Denmark     Western Europe         7.620   \n",
       "2  Switzerland     Western Europe         7.571   \n",
       "3      Iceland     Western Europe         7.554   \n",
       "4  Netherlands     Western Europe         7.464   \n",
       "\n",
       "   Standard error of ladder score  upperwhisker  lowerwhisker  \\\n",
       "0                           0.032         7.904         7.780   \n",
       "1                           0.035         7.687         7.552   \n",
       "2                           0.036         7.643         7.500   \n",
       "3                           0.059         7.670         7.438   \n",
       "4                           0.027         7.518         7.410   \n",
       "\n",
       "   Logged GDP per capita  Social support  Healthy life expectancy  \\\n",
       "0                 10.775           0.954                     72.0   \n",
       "1                 10.933           0.954                     72.7   \n",
       "2                 11.117           0.942                     74.4   \n",
       "3                 10.878           0.983                     73.0   \n",
       "4                 10.932           0.942                     72.4   \n",
       "\n",
       "   Freedom to make life choices  Generosity  Perceptions of corruption  \\\n",
       "0                         0.949      -0.098                      0.186   \n",
       "1                         0.946       0.030                      0.179   \n",
       "2                         0.919       0.025                      0.292   \n",
       "3                         0.955       0.160                      0.673   \n",
       "4                         0.913       0.175                      0.338   \n",
       "\n",
       "   Ladder score in Dystopia  Explained by: Log GDP per capita  \\\n",
       "0                      2.43                             1.446   \n",
       "1                      2.43                             1.502   \n",
       "2                      2.43                             1.566   \n",
       "3                      2.43                             1.482   \n",
       "4                      2.43                             1.501   \n",
       "\n",
       "   Explained by: Social support  Explained by: Healthy life expectancy  \\\n",
       "0                         1.106                                  0.741   \n",
       "1                         1.108                                  0.763   \n",
       "2                         1.079                                  0.816   \n",
       "3                         1.172                                  0.772   \n",
       "4                         1.079                                  0.753   \n",
       "\n",
       "   Explained by: Freedom to make life choices  Explained by: Generosity  \\\n",
       "0                                       0.691                     0.124   \n",
       "1                                       0.686                     0.208   \n",
       "2                                       0.653                     0.204   \n",
       "3                                       0.698                     0.293   \n",
       "4                                       0.647                     0.302   \n",
       "\n",
       "   Explained by: Perceptions of corruption  Dystopia + residual  \n",
       "0                                    0.481                3.253  \n",
       "1                                    0.485                2.868  \n",
       "2                                    0.413                2.839  \n",
       "3                                    0.170                2.967  \n",
       "4                                    0.384                2.798  "
      ]
     },
     "execution_count": 917,
     "metadata": {},
     "output_type": "execute_result"
    }
   ],
   "source": [
    "WHR_2021 = pd.read_csv(\"world-happiness-report-2021.csv\")\n",
    "\n",
    "\n",
    "WHR_2021.head()"
   ]
  },
  {
   "cell_type": "code",
   "execution_count": 918,
   "metadata": {},
   "outputs": [
    {
     "data": {
      "text/html": [
       "<div>\n",
       "<style scoped>\n",
       "    .dataframe tbody tr th:only-of-type {\n",
       "        vertical-align: middle;\n",
       "    }\n",
       "\n",
       "    .dataframe tbody tr th {\n",
       "        vertical-align: top;\n",
       "    }\n",
       "\n",
       "    .dataframe thead th {\n",
       "        text-align: right;\n",
       "    }\n",
       "</style>\n",
       "<table border=\"1\" class=\"dataframe\">\n",
       "  <thead>\n",
       "    <tr style=\"text-align: right;\">\n",
       "      <th></th>\n",
       "      <th>Rank</th>\n",
       "      <th>Country</th>\n",
       "      <th>Score</th>\n",
       "      <th>GDP_Per_Capita</th>\n",
       "      <th>Social_Support</th>\n",
       "      <th>Healthy_Life_Expectancy</th>\n",
       "      <th>Freedom_to_Make_Life_Choices</th>\n",
       "      <th>Generosity</th>\n",
       "      <th>Perceptions_of_Corruption</th>\n",
       "    </tr>\n",
       "  </thead>\n",
       "  <tbody>\n",
       "    <tr>\n",
       "      <th>0</th>\n",
       "      <td>1</td>\n",
       "      <td>Finland</td>\n",
       "      <td>7.769</td>\n",
       "      <td>1.340</td>\n",
       "      <td>1.587</td>\n",
       "      <td>0.986</td>\n",
       "      <td>0.596</td>\n",
       "      <td>0.153</td>\n",
       "      <td>0.393</td>\n",
       "    </tr>\n",
       "    <tr>\n",
       "      <th>1</th>\n",
       "      <td>2</td>\n",
       "      <td>Denmark</td>\n",
       "      <td>7.600</td>\n",
       "      <td>1.383</td>\n",
       "      <td>1.573</td>\n",
       "      <td>0.996</td>\n",
       "      <td>0.592</td>\n",
       "      <td>0.252</td>\n",
       "      <td>0.410</td>\n",
       "    </tr>\n",
       "    <tr>\n",
       "      <th>2</th>\n",
       "      <td>3</td>\n",
       "      <td>Norway</td>\n",
       "      <td>7.554</td>\n",
       "      <td>1.488</td>\n",
       "      <td>1.582</td>\n",
       "      <td>1.028</td>\n",
       "      <td>0.603</td>\n",
       "      <td>0.271</td>\n",
       "      <td>0.341</td>\n",
       "    </tr>\n",
       "    <tr>\n",
       "      <th>3</th>\n",
       "      <td>4</td>\n",
       "      <td>Iceland</td>\n",
       "      <td>7.494</td>\n",
       "      <td>1.380</td>\n",
       "      <td>1.624</td>\n",
       "      <td>1.026</td>\n",
       "      <td>0.591</td>\n",
       "      <td>0.354</td>\n",
       "      <td>0.118</td>\n",
       "    </tr>\n",
       "    <tr>\n",
       "      <th>4</th>\n",
       "      <td>5</td>\n",
       "      <td>Netherlands</td>\n",
       "      <td>7.488</td>\n",
       "      <td>1.396</td>\n",
       "      <td>1.522</td>\n",
       "      <td>0.999</td>\n",
       "      <td>0.557</td>\n",
       "      <td>0.322</td>\n",
       "      <td>0.298</td>\n",
       "    </tr>\n",
       "    <tr>\n",
       "      <th>...</th>\n",
       "      <td>...</td>\n",
       "      <td>...</td>\n",
       "      <td>...</td>\n",
       "      <td>...</td>\n",
       "      <td>...</td>\n",
       "      <td>...</td>\n",
       "      <td>...</td>\n",
       "      <td>...</td>\n",
       "      <td>...</td>\n",
       "    </tr>\n",
       "    <tr>\n",
       "      <th>151</th>\n",
       "      <td>152</td>\n",
       "      <td>Rwanda</td>\n",
       "      <td>3.334</td>\n",
       "      <td>0.359</td>\n",
       "      <td>0.711</td>\n",
       "      <td>0.614</td>\n",
       "      <td>0.555</td>\n",
       "      <td>0.217</td>\n",
       "      <td>0.411</td>\n",
       "    </tr>\n",
       "    <tr>\n",
       "      <th>152</th>\n",
       "      <td>153</td>\n",
       "      <td>Tanzania</td>\n",
       "      <td>3.231</td>\n",
       "      <td>0.476</td>\n",
       "      <td>0.885</td>\n",
       "      <td>0.499</td>\n",
       "      <td>0.417</td>\n",
       "      <td>0.276</td>\n",
       "      <td>0.147</td>\n",
       "    </tr>\n",
       "    <tr>\n",
       "      <th>153</th>\n",
       "      <td>154</td>\n",
       "      <td>Afghanistan</td>\n",
       "      <td>3.203</td>\n",
       "      <td>0.350</td>\n",
       "      <td>0.517</td>\n",
       "      <td>0.361</td>\n",
       "      <td>0.000</td>\n",
       "      <td>0.158</td>\n",
       "      <td>0.025</td>\n",
       "    </tr>\n",
       "    <tr>\n",
       "      <th>154</th>\n",
       "      <td>155</td>\n",
       "      <td>Central African Republic</td>\n",
       "      <td>3.083</td>\n",
       "      <td>0.026</td>\n",
       "      <td>0.000</td>\n",
       "      <td>0.105</td>\n",
       "      <td>0.225</td>\n",
       "      <td>0.235</td>\n",
       "      <td>0.035</td>\n",
       "    </tr>\n",
       "    <tr>\n",
       "      <th>155</th>\n",
       "      <td>156</td>\n",
       "      <td>South Sudan</td>\n",
       "      <td>2.853</td>\n",
       "      <td>0.306</td>\n",
       "      <td>0.575</td>\n",
       "      <td>0.295</td>\n",
       "      <td>0.010</td>\n",
       "      <td>0.202</td>\n",
       "      <td>0.091</td>\n",
       "    </tr>\n",
       "  </tbody>\n",
       "</table>\n",
       "<p>156 rows × 9 columns</p>\n",
       "</div>"
      ],
      "text/plain": [
       "     Rank                   Country  Score  GDP_Per_Capita  Social_Support  \\\n",
       "0       1                   Finland  7.769           1.340           1.587   \n",
       "1       2                   Denmark  7.600           1.383           1.573   \n",
       "2       3                    Norway  7.554           1.488           1.582   \n",
       "3       4                   Iceland  7.494           1.380           1.624   \n",
       "4       5               Netherlands  7.488           1.396           1.522   \n",
       "..    ...                       ...    ...             ...             ...   \n",
       "151   152                    Rwanda  3.334           0.359           0.711   \n",
       "152   153                  Tanzania  3.231           0.476           0.885   \n",
       "153   154               Afghanistan  3.203           0.350           0.517   \n",
       "154   155  Central African Republic  3.083           0.026           0.000   \n",
       "155   156               South Sudan  2.853           0.306           0.575   \n",
       "\n",
       "     Healthy_Life_Expectancy  Freedom_to_Make_Life_Choices  Generosity  \\\n",
       "0                      0.986                         0.596       0.153   \n",
       "1                      0.996                         0.592       0.252   \n",
       "2                      1.028                         0.603       0.271   \n",
       "3                      1.026                         0.591       0.354   \n",
       "4                      0.999                         0.557       0.322   \n",
       "..                       ...                           ...         ...   \n",
       "151                    0.614                         0.555       0.217   \n",
       "152                    0.499                         0.417       0.276   \n",
       "153                    0.361                         0.000       0.158   \n",
       "154                    0.105                         0.225       0.235   \n",
       "155                    0.295                         0.010       0.202   \n",
       "\n",
       "     Perceptions_of_Corruption  \n",
       "0                        0.393  \n",
       "1                        0.410  \n",
       "2                        0.341  \n",
       "3                        0.118  \n",
       "4                        0.298  \n",
       "..                         ...  \n",
       "151                      0.411  \n",
       "152                      0.147  \n",
       "153                      0.025  \n",
       "154                      0.035  \n",
       "155                      0.091  \n",
       "\n",
       "[156 rows x 9 columns]"
      ]
     },
     "execution_count": 918,
     "metadata": {},
     "output_type": "execute_result"
    }
   ],
   "source": [
    "WHR_2019"
   ]
  },
  {
   "cell_type": "code",
   "execution_count": 919,
   "metadata": {},
   "outputs": [
    {
     "data": {
      "text/html": [
       "<div>\n",
       "<style scoped>\n",
       "    .dataframe tbody tr th:only-of-type {\n",
       "        vertical-align: middle;\n",
       "    }\n",
       "\n",
       "    .dataframe tbody tr th {\n",
       "        vertical-align: top;\n",
       "    }\n",
       "\n",
       "    .dataframe thead th {\n",
       "        text-align: right;\n",
       "    }\n",
       "</style>\n",
       "<table border=\"1\" class=\"dataframe\">\n",
       "  <thead>\n",
       "    <tr style=\"text-align: right;\">\n",
       "      <th></th>\n",
       "      <th>Rank</th>\n",
       "      <th>Score</th>\n",
       "      <th>GDP_Per_Capita</th>\n",
       "      <th>Social_Support</th>\n",
       "      <th>Healthy_Life_Expectancy</th>\n",
       "      <th>Freedom_to_Make_Life_Choices</th>\n",
       "      <th>Generosity</th>\n",
       "      <th>Perceptions_of_Corruption</th>\n",
       "    </tr>\n",
       "  </thead>\n",
       "  <tbody>\n",
       "    <tr>\n",
       "      <th>count</th>\n",
       "      <td>156.000000</td>\n",
       "      <td>156.000000</td>\n",
       "      <td>156.000000</td>\n",
       "      <td>156.000000</td>\n",
       "      <td>156.000000</td>\n",
       "      <td>156.000000</td>\n",
       "      <td>156.000000</td>\n",
       "      <td>156.000000</td>\n",
       "    </tr>\n",
       "    <tr>\n",
       "      <th>mean</th>\n",
       "      <td>78.500000</td>\n",
       "      <td>5.407096</td>\n",
       "      <td>0.905147</td>\n",
       "      <td>1.208814</td>\n",
       "      <td>0.725244</td>\n",
       "      <td>0.392571</td>\n",
       "      <td>0.184846</td>\n",
       "      <td>0.110603</td>\n",
       "    </tr>\n",
       "    <tr>\n",
       "      <th>std</th>\n",
       "      <td>45.177428</td>\n",
       "      <td>1.113120</td>\n",
       "      <td>0.398389</td>\n",
       "      <td>0.299191</td>\n",
       "      <td>0.242124</td>\n",
       "      <td>0.143289</td>\n",
       "      <td>0.095254</td>\n",
       "      <td>0.094538</td>\n",
       "    </tr>\n",
       "    <tr>\n",
       "      <th>min</th>\n",
       "      <td>1.000000</td>\n",
       "      <td>2.853000</td>\n",
       "      <td>0.000000</td>\n",
       "      <td>0.000000</td>\n",
       "      <td>0.000000</td>\n",
       "      <td>0.000000</td>\n",
       "      <td>0.000000</td>\n",
       "      <td>0.000000</td>\n",
       "    </tr>\n",
       "    <tr>\n",
       "      <th>25%</th>\n",
       "      <td>39.750000</td>\n",
       "      <td>4.544500</td>\n",
       "      <td>0.602750</td>\n",
       "      <td>1.055750</td>\n",
       "      <td>0.547750</td>\n",
       "      <td>0.308000</td>\n",
       "      <td>0.108750</td>\n",
       "      <td>0.047000</td>\n",
       "    </tr>\n",
       "    <tr>\n",
       "      <th>50%</th>\n",
       "      <td>78.500000</td>\n",
       "      <td>5.379500</td>\n",
       "      <td>0.960000</td>\n",
       "      <td>1.271500</td>\n",
       "      <td>0.789000</td>\n",
       "      <td>0.417000</td>\n",
       "      <td>0.177500</td>\n",
       "      <td>0.085500</td>\n",
       "    </tr>\n",
       "    <tr>\n",
       "      <th>75%</th>\n",
       "      <td>117.250000</td>\n",
       "      <td>6.184500</td>\n",
       "      <td>1.232500</td>\n",
       "      <td>1.452500</td>\n",
       "      <td>0.881750</td>\n",
       "      <td>0.507250</td>\n",
       "      <td>0.248250</td>\n",
       "      <td>0.141250</td>\n",
       "    </tr>\n",
       "    <tr>\n",
       "      <th>max</th>\n",
       "      <td>156.000000</td>\n",
       "      <td>7.769000</td>\n",
       "      <td>1.684000</td>\n",
       "      <td>1.624000</td>\n",
       "      <td>1.141000</td>\n",
       "      <td>0.631000</td>\n",
       "      <td>0.566000</td>\n",
       "      <td>0.453000</td>\n",
       "    </tr>\n",
       "  </tbody>\n",
       "</table>\n",
       "</div>"
      ],
      "text/plain": [
       "             Rank       Score  GDP_Per_Capita  Social_Support  \\\n",
       "count  156.000000  156.000000      156.000000      156.000000   \n",
       "mean    78.500000    5.407096        0.905147        1.208814   \n",
       "std     45.177428    1.113120        0.398389        0.299191   \n",
       "min      1.000000    2.853000        0.000000        0.000000   \n",
       "25%     39.750000    4.544500        0.602750        1.055750   \n",
       "50%     78.500000    5.379500        0.960000        1.271500   \n",
       "75%    117.250000    6.184500        1.232500        1.452500   \n",
       "max    156.000000    7.769000        1.684000        1.624000   \n",
       "\n",
       "       Healthy_Life_Expectancy  Freedom_to_Make_Life_Choices  Generosity  \\\n",
       "count               156.000000                    156.000000  156.000000   \n",
       "mean                  0.725244                      0.392571    0.184846   \n",
       "std                   0.242124                      0.143289    0.095254   \n",
       "min                   0.000000                      0.000000    0.000000   \n",
       "25%                   0.547750                      0.308000    0.108750   \n",
       "50%                   0.789000                      0.417000    0.177500   \n",
       "75%                   0.881750                      0.507250    0.248250   \n",
       "max                   1.141000                      0.631000    0.566000   \n",
       "\n",
       "       Perceptions_of_Corruption  \n",
       "count                 156.000000  \n",
       "mean                    0.110603  \n",
       "std                     0.094538  \n",
       "min                     0.000000  \n",
       "25%                     0.047000  \n",
       "50%                     0.085500  \n",
       "75%                     0.141250  \n",
       "max                     0.453000  "
      ]
     },
     "execution_count": 919,
     "metadata": {},
     "output_type": "execute_result"
    }
   ],
   "source": [
    "WHR_2019.describe()"
   ]
  },
  {
   "cell_type": "code",
   "execution_count": 920,
   "metadata": {},
   "outputs": [
    {
     "name": "stdout",
     "output_type": "stream",
     "text": [
      "['Finland', 'Denmark', 'Norway', 'Iceland', 'Netherlands', 'Switzerland', 'Sweden', 'New Zealand', 'Canada', 'Austria', 'Australia', 'Costa Rica', 'Israel', 'Luxembourg', 'United Kingdom', 'Ireland', 'Germany', 'Belgium', 'United States', 'Czech Republic', 'United Arab Emirates', 'Malta', 'Mexico', 'France', 'Taiwan', 'Chile', 'Guatemala', 'Saudi Arabia', 'Qatar', 'Spain', 'Panama', 'Brazil', 'Uruguay', 'Singapore', 'El Salvador', 'Italy', 'Bahrain', 'Slovakia', 'Trinidad & Tobago', 'Poland', 'Uzbekistan', 'Lithuania', 'Colombia', 'Slovenia', 'Nicaragua', 'Kosovo', 'Argentina', 'Romania', 'Cyprus', 'Ecuador', 'Kuwait', 'Thailand', 'Latvia', 'South Korea', 'Estonia', 'Jamaica', 'Mauritius', 'Japan', 'Honduras', 'Kazakhstan', 'Bolivia', 'Hungary', 'Paraguay', 'Northern Cyprus', 'Peru', 'Portugal', 'Pakistan', 'Russia', 'Philippines', 'Serbia', 'Moldova', 'Libya', 'Montenegro', 'Tajikistan', 'Croatia', 'Hong Kong', 'Dominican Republic', 'Bosnia and Herzegovina', 'Turkey', 'Malaysia', 'Belarus', 'Greece', 'Mongolia', 'North Macedonia', 'Nigeria', 'Kyrgyzstan', 'Turkmenistan', 'Algeria', 'Morocco', 'Azerbaijan', 'Lebanon', 'Indonesia', 'China', 'Vietnam', 'Bhutan', 'Cameroon', 'Bulgaria', 'Ghana', 'Ivory Coast', 'Nepal', 'Jordan', 'Benin', 'Congo (Brazzaville)', 'Gabon', 'Laos', 'South Africa', 'Albania', 'Venezuela', 'Cambodia', 'Palestinian Territories', 'Senegal', 'Somalia', 'Namibia', 'Niger', 'Burkina Faso', 'Armenia', 'Iran', 'Guinea', 'Georgia', 'Gambia', 'Kenya', 'Mauritania', 'Mozambique', 'Tunisia', 'Bangladesh', 'Iraq', 'Congo (Kinshasa)', 'Mali', 'Sierra Leone', 'Sri Lanka', 'Myanmar', 'Chad', 'Ukraine', 'Ethiopia', 'Swaziland', 'Uganda', 'Egypt', 'Zambia', 'Togo', 'India', 'Liberia', 'Comoros', 'Madagascar', 'Lesotho', 'Burundi', 'Zimbabwe', 'Haiti', 'Botswana', 'Syria', 'Malawi', 'Yemen', 'Rwanda', 'Tanzania', 'Afghanistan', 'Central African Republic', 'South Sudan']\n"
     ]
    }
   ],
   "source": [
    "# Get list of countries\n",
    "\n",
    "country_list_2019 = WHR_2019['Country'].tolist()\n",
    "print(country_list_2019)"
   ]
  },
  {
   "cell_type": "code",
   "execution_count": 921,
   "metadata": {},
   "outputs": [
    {
     "data": {
      "text/html": [
       "<div>\n",
       "<style scoped>\n",
       "    .dataframe tbody tr th:only-of-type {\n",
       "        vertical-align: middle;\n",
       "    }\n",
       "\n",
       "    .dataframe tbody tr th {\n",
       "        vertical-align: top;\n",
       "    }\n",
       "\n",
       "    .dataframe thead th {\n",
       "        text-align: right;\n",
       "    }\n",
       "</style>\n",
       "<table border=\"1\" class=\"dataframe\">\n",
       "  <thead>\n",
       "    <tr style=\"text-align: right;\">\n",
       "      <th></th>\n",
       "      <th>Ladder score</th>\n",
       "      <th>Standard error of ladder score</th>\n",
       "      <th>upperwhisker</th>\n",
       "      <th>lowerwhisker</th>\n",
       "      <th>Logged GDP per capita</th>\n",
       "      <th>Social support</th>\n",
       "      <th>Healthy life expectancy</th>\n",
       "      <th>Freedom to make life choices</th>\n",
       "      <th>Generosity</th>\n",
       "      <th>Perceptions of corruption</th>\n",
       "      <th>Ladder score in Dystopia</th>\n",
       "      <th>Explained by: Log GDP per capita</th>\n",
       "      <th>Explained by: Social support</th>\n",
       "      <th>Explained by: Healthy life expectancy</th>\n",
       "      <th>Explained by: Freedom to make life choices</th>\n",
       "      <th>Explained by: Generosity</th>\n",
       "      <th>Explained by: Perceptions of corruption</th>\n",
       "      <th>Dystopia + residual</th>\n",
       "    </tr>\n",
       "  </thead>\n",
       "  <tbody>\n",
       "    <tr>\n",
       "      <th>count</th>\n",
       "      <td>149.000000</td>\n",
       "      <td>149.000000</td>\n",
       "      <td>149.000000</td>\n",
       "      <td>149.000000</td>\n",
       "      <td>149.000000</td>\n",
       "      <td>149.000000</td>\n",
       "      <td>149.000000</td>\n",
       "      <td>149.000000</td>\n",
       "      <td>149.000000</td>\n",
       "      <td>149.000000</td>\n",
       "      <td>1.490000e+02</td>\n",
       "      <td>149.000000</td>\n",
       "      <td>149.000000</td>\n",
       "      <td>149.000000</td>\n",
       "      <td>149.000000</td>\n",
       "      <td>149.000000</td>\n",
       "      <td>149.000000</td>\n",
       "      <td>149.000000</td>\n",
       "    </tr>\n",
       "    <tr>\n",
       "      <th>mean</th>\n",
       "      <td>5.532839</td>\n",
       "      <td>0.058752</td>\n",
       "      <td>5.648007</td>\n",
       "      <td>5.417631</td>\n",
       "      <td>9.432208</td>\n",
       "      <td>0.814745</td>\n",
       "      <td>64.992799</td>\n",
       "      <td>0.791597</td>\n",
       "      <td>-0.015134</td>\n",
       "      <td>0.727450</td>\n",
       "      <td>2.430000e+00</td>\n",
       "      <td>0.977161</td>\n",
       "      <td>0.793315</td>\n",
       "      <td>0.520161</td>\n",
       "      <td>0.498711</td>\n",
       "      <td>0.178047</td>\n",
       "      <td>0.135141</td>\n",
       "      <td>2.430329</td>\n",
       "    </tr>\n",
       "    <tr>\n",
       "      <th>std</th>\n",
       "      <td>1.073924</td>\n",
       "      <td>0.022001</td>\n",
       "      <td>1.054330</td>\n",
       "      <td>1.094879</td>\n",
       "      <td>1.158601</td>\n",
       "      <td>0.114889</td>\n",
       "      <td>6.762043</td>\n",
       "      <td>0.113332</td>\n",
       "      <td>0.150657</td>\n",
       "      <td>0.179226</td>\n",
       "      <td>5.347044e-15</td>\n",
       "      <td>0.404740</td>\n",
       "      <td>0.258871</td>\n",
       "      <td>0.213019</td>\n",
       "      <td>0.137888</td>\n",
       "      <td>0.098270</td>\n",
       "      <td>0.114361</td>\n",
       "      <td>0.537645</td>\n",
       "    </tr>\n",
       "    <tr>\n",
       "      <th>min</th>\n",
       "      <td>2.523000</td>\n",
       "      <td>0.026000</td>\n",
       "      <td>2.596000</td>\n",
       "      <td>2.449000</td>\n",
       "      <td>6.635000</td>\n",
       "      <td>0.463000</td>\n",
       "      <td>48.478000</td>\n",
       "      <td>0.382000</td>\n",
       "      <td>-0.288000</td>\n",
       "      <td>0.082000</td>\n",
       "      <td>2.430000e+00</td>\n",
       "      <td>0.000000</td>\n",
       "      <td>0.000000</td>\n",
       "      <td>0.000000</td>\n",
       "      <td>0.000000</td>\n",
       "      <td>0.000000</td>\n",
       "      <td>0.000000</td>\n",
       "      <td>0.648000</td>\n",
       "    </tr>\n",
       "    <tr>\n",
       "      <th>25%</th>\n",
       "      <td>4.852000</td>\n",
       "      <td>0.043000</td>\n",
       "      <td>4.991000</td>\n",
       "      <td>4.706000</td>\n",
       "      <td>8.541000</td>\n",
       "      <td>0.750000</td>\n",
       "      <td>59.802000</td>\n",
       "      <td>0.718000</td>\n",
       "      <td>-0.126000</td>\n",
       "      <td>0.667000</td>\n",
       "      <td>2.430000e+00</td>\n",
       "      <td>0.666000</td>\n",
       "      <td>0.647000</td>\n",
       "      <td>0.357000</td>\n",
       "      <td>0.409000</td>\n",
       "      <td>0.105000</td>\n",
       "      <td>0.060000</td>\n",
       "      <td>2.138000</td>\n",
       "    </tr>\n",
       "    <tr>\n",
       "      <th>50%</th>\n",
       "      <td>5.534000</td>\n",
       "      <td>0.054000</td>\n",
       "      <td>5.625000</td>\n",
       "      <td>5.413000</td>\n",
       "      <td>9.569000</td>\n",
       "      <td>0.832000</td>\n",
       "      <td>66.603000</td>\n",
       "      <td>0.804000</td>\n",
       "      <td>-0.036000</td>\n",
       "      <td>0.781000</td>\n",
       "      <td>2.430000e+00</td>\n",
       "      <td>1.025000</td>\n",
       "      <td>0.832000</td>\n",
       "      <td>0.571000</td>\n",
       "      <td>0.514000</td>\n",
       "      <td>0.164000</td>\n",
       "      <td>0.101000</td>\n",
       "      <td>2.509000</td>\n",
       "    </tr>\n",
       "    <tr>\n",
       "      <th>75%</th>\n",
       "      <td>6.255000</td>\n",
       "      <td>0.070000</td>\n",
       "      <td>6.344000</td>\n",
       "      <td>6.128000</td>\n",
       "      <td>10.421000</td>\n",
       "      <td>0.905000</td>\n",
       "      <td>69.600000</td>\n",
       "      <td>0.877000</td>\n",
       "      <td>0.079000</td>\n",
       "      <td>0.845000</td>\n",
       "      <td>2.430000e+00</td>\n",
       "      <td>1.323000</td>\n",
       "      <td>0.996000</td>\n",
       "      <td>0.665000</td>\n",
       "      <td>0.603000</td>\n",
       "      <td>0.239000</td>\n",
       "      <td>0.174000</td>\n",
       "      <td>2.794000</td>\n",
       "    </tr>\n",
       "    <tr>\n",
       "      <th>max</th>\n",
       "      <td>7.842000</td>\n",
       "      <td>0.173000</td>\n",
       "      <td>7.904000</td>\n",
       "      <td>7.780000</td>\n",
       "      <td>11.647000</td>\n",
       "      <td>0.983000</td>\n",
       "      <td>76.953000</td>\n",
       "      <td>0.970000</td>\n",
       "      <td>0.542000</td>\n",
       "      <td>0.939000</td>\n",
       "      <td>2.430000e+00</td>\n",
       "      <td>1.751000</td>\n",
       "      <td>1.172000</td>\n",
       "      <td>0.897000</td>\n",
       "      <td>0.716000</td>\n",
       "      <td>0.541000</td>\n",
       "      <td>0.547000</td>\n",
       "      <td>3.482000</td>\n",
       "    </tr>\n",
       "  </tbody>\n",
       "</table>\n",
       "</div>"
      ],
      "text/plain": [
       "       Ladder score  Standard error of ladder score  upperwhisker  \\\n",
       "count    149.000000                      149.000000    149.000000   \n",
       "mean       5.532839                        0.058752      5.648007   \n",
       "std        1.073924                        0.022001      1.054330   \n",
       "min        2.523000                        0.026000      2.596000   \n",
       "25%        4.852000                        0.043000      4.991000   \n",
       "50%        5.534000                        0.054000      5.625000   \n",
       "75%        6.255000                        0.070000      6.344000   \n",
       "max        7.842000                        0.173000      7.904000   \n",
       "\n",
       "       lowerwhisker  Logged GDP per capita  Social support  \\\n",
       "count    149.000000             149.000000      149.000000   \n",
       "mean       5.417631               9.432208        0.814745   \n",
       "std        1.094879               1.158601        0.114889   \n",
       "min        2.449000               6.635000        0.463000   \n",
       "25%        4.706000               8.541000        0.750000   \n",
       "50%        5.413000               9.569000        0.832000   \n",
       "75%        6.128000              10.421000        0.905000   \n",
       "max        7.780000              11.647000        0.983000   \n",
       "\n",
       "       Healthy life expectancy  Freedom to make life choices  Generosity  \\\n",
       "count               149.000000                    149.000000  149.000000   \n",
       "mean                 64.992799                      0.791597   -0.015134   \n",
       "std                   6.762043                      0.113332    0.150657   \n",
       "min                  48.478000                      0.382000   -0.288000   \n",
       "25%                  59.802000                      0.718000   -0.126000   \n",
       "50%                  66.603000                      0.804000   -0.036000   \n",
       "75%                  69.600000                      0.877000    0.079000   \n",
       "max                  76.953000                      0.970000    0.542000   \n",
       "\n",
       "       Perceptions of corruption  Ladder score in Dystopia  \\\n",
       "count                 149.000000              1.490000e+02   \n",
       "mean                    0.727450              2.430000e+00   \n",
       "std                     0.179226              5.347044e-15   \n",
       "min                     0.082000              2.430000e+00   \n",
       "25%                     0.667000              2.430000e+00   \n",
       "50%                     0.781000              2.430000e+00   \n",
       "75%                     0.845000              2.430000e+00   \n",
       "max                     0.939000              2.430000e+00   \n",
       "\n",
       "       Explained by: Log GDP per capita  Explained by: Social support  \\\n",
       "count                        149.000000                    149.000000   \n",
       "mean                           0.977161                      0.793315   \n",
       "std                            0.404740                      0.258871   \n",
       "min                            0.000000                      0.000000   \n",
       "25%                            0.666000                      0.647000   \n",
       "50%                            1.025000                      0.832000   \n",
       "75%                            1.323000                      0.996000   \n",
       "max                            1.751000                      1.172000   \n",
       "\n",
       "       Explained by: Healthy life expectancy  \\\n",
       "count                             149.000000   \n",
       "mean                                0.520161   \n",
       "std                                 0.213019   \n",
       "min                                 0.000000   \n",
       "25%                                 0.357000   \n",
       "50%                                 0.571000   \n",
       "75%                                 0.665000   \n",
       "max                                 0.897000   \n",
       "\n",
       "       Explained by: Freedom to make life choices  Explained by: Generosity  \\\n",
       "count                                  149.000000                149.000000   \n",
       "mean                                     0.498711                  0.178047   \n",
       "std                                      0.137888                  0.098270   \n",
       "min                                      0.000000                  0.000000   \n",
       "25%                                      0.409000                  0.105000   \n",
       "50%                                      0.514000                  0.164000   \n",
       "75%                                      0.603000                  0.239000   \n",
       "max                                      0.716000                  0.541000   \n",
       "\n",
       "       Explained by: Perceptions of corruption  Dystopia + residual  \n",
       "count                               149.000000           149.000000  \n",
       "mean                                  0.135141             2.430329  \n",
       "std                                   0.114361             0.537645  \n",
       "min                                   0.000000             0.648000  \n",
       "25%                                   0.060000             2.138000  \n",
       "50%                                   0.101000             2.509000  \n",
       "75%                                   0.174000             2.794000  \n",
       "max                                   0.547000             3.482000  "
      ]
     },
     "execution_count": 921,
     "metadata": {},
     "output_type": "execute_result"
    }
   ],
   "source": [
    "WHR_2021.describe()"
   ]
  },
  {
   "cell_type": "code",
   "execution_count": 922,
   "metadata": {},
   "outputs": [
    {
     "name": "stdout",
     "output_type": "stream",
     "text": [
      "['Finland', 'Denmark', 'Switzerland', 'Iceland', 'Netherlands', 'Norway', 'Sweden', 'Luxembourg', 'New Zealand', 'Austria', 'Australia', 'Israel', 'Germany', 'Canada', 'Ireland', 'Costa Rica', 'United Kingdom', 'Czech Republic', 'United States', 'Belgium', 'France', 'Bahrain', 'Malta', 'Taiwan Province of China', 'United Arab Emirates', 'Saudi Arabia', 'Spain', 'Italy', 'Slovenia', 'Guatemala', 'Uruguay', 'Singapore', 'Kosovo', 'Slovakia', 'Brazil', 'Mexico', 'Jamaica', 'Lithuania', 'Cyprus', 'Estonia', 'Panama', 'Uzbekistan', 'Chile', 'Poland', 'Kazakhstan', 'Romania', 'Kuwait', 'Serbia', 'El Salvador', 'Mauritius', 'Latvia', 'Colombia', 'Hungary', 'Thailand', 'Nicaragua', 'Japan', 'Argentina', 'Portugal', 'Honduras', 'Croatia', 'Philippines', 'South Korea', 'Peru', 'Bosnia and Herzegovina', 'Moldova', 'Ecuador', 'Kyrgyzstan', 'Greece', 'Bolivia', 'Mongolia', 'Paraguay', 'Montenegro', 'Dominican Republic', 'North Cyprus', 'Belarus', 'Russia', 'Hong Kong S.A.R. of China', 'Tajikistan', 'Vietnam', 'Libya', 'Malaysia', 'Indonesia', 'Congo (Brazzaville)', 'China', 'Ivory Coast', 'Armenia', 'Nepal', 'Bulgaria', 'Maldives', 'Azerbaijan', 'Cameroon', 'Senegal', 'Albania', 'North Macedonia', 'Ghana', 'Niger', 'Turkmenistan', 'Gambia', 'Benin', 'Laos', 'Bangladesh', 'Guinea', 'South Africa', 'Turkey', 'Pakistan', 'Morocco', 'Venezuela', 'Georgia', 'Algeria', 'Ukraine', 'Iraq', 'Gabon', 'Burkina Faso', 'Cambodia', 'Mozambique', 'Nigeria', 'Mali', 'Iran', 'Uganda', 'Liberia', 'Kenya', 'Tunisia', 'Lebanon', 'Namibia', 'Palestinian Territories', 'Myanmar', 'Jordan', 'Chad', 'Sri Lanka', 'Swaziland', 'Comoros', 'Egypt', 'Ethiopia', 'Mauritania', 'Madagascar', 'Togo', 'Zambia', 'Sierra Leone', 'India', 'Burundi', 'Yemen', 'Tanzania', 'Haiti', 'Malawi', 'Lesotho', 'Botswana', 'Rwanda', 'Zimbabwe', 'Afghanistan']\n"
     ]
    }
   ],
   "source": [
    "# Get list of countries in 2021 data\n",
    "\n",
    "country_list_2021 = WHR_2021['Country name'].tolist()\n",
    "print(country_list_2021)"
   ]
  },
  {
   "cell_type": "code",
   "execution_count": 923,
   "metadata": {},
   "outputs": [
    {
     "name": "stdout",
     "output_type": "stream",
     "text": [
      "['Finland', 'Denmark', 'Norway', 'Iceland', 'Netherlands', 'Switzerland', 'Sweden', 'New Zealand', 'Canada', 'Austria', 'Australia', 'Costa Rica', 'Israel', 'Luxembourg', 'United Kingdom', 'Ireland', 'Germany', 'Belgium', 'United States', 'Czech Republic', 'United Arab Emirates', 'Malta', 'Mexico', 'France', 'Chile', 'Guatemala', 'Saudi Arabia', 'Spain', 'Panama', 'Brazil', 'Uruguay', 'Singapore', 'El Salvador', 'Italy', 'Bahrain', 'Slovakia', 'Poland', 'Uzbekistan', 'Lithuania', 'Colombia', 'Slovenia', 'Nicaragua', 'Kosovo', 'Argentina', 'Romania', 'Cyprus', 'Ecuador', 'Kuwait', 'Thailand', 'Latvia', 'South Korea', 'Estonia', 'Jamaica', 'Mauritius', 'Japan', 'Honduras', 'Kazakhstan', 'Bolivia', 'Hungary', 'Paraguay', 'Peru', 'Portugal', 'Pakistan', 'Russia', 'Philippines', 'Serbia', 'Moldova', 'Libya', 'Montenegro', 'Tajikistan', 'Croatia', 'Dominican Republic', 'Bosnia and Herzegovina', 'Turkey', 'Malaysia', 'Belarus', 'Greece', 'Mongolia', 'North Macedonia', 'Nigeria', 'Kyrgyzstan', 'Turkmenistan', 'Algeria', 'Morocco', 'Azerbaijan', 'Lebanon', 'Indonesia', 'China', 'Vietnam', 'Cameroon', 'Bulgaria', 'Ghana', 'Ivory Coast', 'Nepal', 'Jordan', 'Benin', 'Congo (Brazzaville)', 'Gabon', 'Laos', 'South Africa', 'Albania', 'Venezuela', 'Cambodia', 'Palestinian Territories', 'Senegal', 'Namibia', 'Niger', 'Burkina Faso', 'Armenia', 'Iran', 'Guinea', 'Georgia', 'Gambia', 'Kenya', 'Mauritania', 'Mozambique', 'Tunisia', 'Bangladesh', 'Iraq', 'Mali', 'Sierra Leone', 'Sri Lanka', 'Myanmar', 'Chad', 'Ukraine', 'Ethiopia', 'Swaziland', 'Uganda', 'Egypt', 'Zambia', 'Togo', 'India', 'Liberia', 'Comoros', 'Madagascar', 'Lesotho', 'Burundi', 'Zimbabwe', 'Haiti', 'Botswana', 'Malawi', 'Yemen', 'Rwanda', 'Tanzania', 'Afghanistan']\n"
     ]
    }
   ],
   "source": [
    "# Since less countries participated in 2021, I am creating a separate list to find which countries did not participate\n",
    "# Then I will exclude them from my final model\n",
    "\n",
    "list_shared = []\n",
    "for item in country_list_2019:\n",
    "  if item in country_list_2021:\n",
    "    list_shared.append(item)\n",
    "\n",
    "print(list_shared)"
   ]
  },
  {
   "cell_type": "code",
   "execution_count": 924,
   "metadata": {},
   "outputs": [],
   "source": [
    "# Create new dataframes that contain the same countries\n",
    "\n",
    "WHR_2019 = WHR_2019[WHR_2019['Country'].isin(list_shared)]\n",
    "drop_rank = WHR_2019.drop(['Rank'], axis = 1)\n",
    "\n",
    "WHR_2021 = WHR_2021[WHR_2021['Country name'].isin(list_shared)]\n"
   ]
  },
  {
   "cell_type": "code",
   "execution_count": 925,
   "metadata": {},
   "outputs": [
    {
     "data": {
      "application/vnd.plotly.v1+json": {
       "config": {
        "linkText": "Export to plot.ly",
        "plotlyServerURL": "https://plot.ly",
        "showLink": false
       },
       "data": [
        {
         "type": "heatmap",
         "x": [
          "Score",
          "GDP_Per_Capita",
          "Social_Support",
          "Healthy_Life_Expectancy",
          "Freedom_to_Make_Life_Choices",
          "Generosity",
          "Perceptions_of_Corruption"
         ],
         "y": [
          "Score",
          "GDP_Per_Capita",
          "Social_Support",
          "Healthy_Life_Expectancy",
          "Freedom_to_Make_Life_Choices",
          "Generosity",
          "Perceptions_of_Corruption"
         ],
         "z": [
          [
           1,
           0.7957382141897393,
           0.7638183216421868,
           0.7744883716648048,
           0.5363509759854473,
           0.11572840081563071,
           0.4167430399627998
          ],
          [
           0.7957382141897393,
           1,
           0.7633364304479053,
           0.8201440059988039,
           0.36396590054536204,
           -0.07087235219347071,
           0.3213841195616457
          ],
          [
           0.7638183216421868,
           0.7633364304479053,
           1,
           0.7027228216015206,
           0.4067062847967029,
           -0.004990295957853587,
           0.21344652513003298
          ],
          [
           0.7744883716648048,
           0.8201440059988039,
           0.7027228216015206,
           1,
           0.3698623299866762,
           -0.0023433916567949954,
           0.30520940921858675
          ],
          [
           0.5363509759854473,
           0.36396590054536204,
           0.4067062847967029,
           0.3698623299866762,
           1,
           0.32174795854264093,
           0.4561659437122473
          ],
          [
           0.11572840081563071,
           -0.07087235219347071,
           -0.004990295957853587,
           -0.0023433916567949954,
           0.32174795854264093,
           1,
           0.32060791737711347
          ],
          [
           0.4167430399627998,
           0.3213841195616457,
           0.21344652513003298,
           0.30520940921858675,
           0.4561659437122473,
           0.32060791737711347,
           1
          ]
         ]
        }
       ],
       "layout": {
        "template": {
         "data": {
          "bar": [
           {
            "error_x": {
             "color": "#2a3f5f"
            },
            "error_y": {
             "color": "#2a3f5f"
            },
            "marker": {
             "line": {
              "color": "#E5ECF6",
              "width": 0.5
             }
            },
            "type": "bar"
           }
          ],
          "barpolar": [
           {
            "marker": {
             "line": {
              "color": "#E5ECF6",
              "width": 0.5
             }
            },
            "type": "barpolar"
           }
          ],
          "carpet": [
           {
            "aaxis": {
             "endlinecolor": "#2a3f5f",
             "gridcolor": "white",
             "linecolor": "white",
             "minorgridcolor": "white",
             "startlinecolor": "#2a3f5f"
            },
            "baxis": {
             "endlinecolor": "#2a3f5f",
             "gridcolor": "white",
             "linecolor": "white",
             "minorgridcolor": "white",
             "startlinecolor": "#2a3f5f"
            },
            "type": "carpet"
           }
          ],
          "choropleth": [
           {
            "colorbar": {
             "outlinewidth": 0,
             "ticks": ""
            },
            "type": "choropleth"
           }
          ],
          "contour": [
           {
            "colorbar": {
             "outlinewidth": 0,
             "ticks": ""
            },
            "colorscale": [
             [
              0,
              "#0d0887"
             ],
             [
              0.1111111111111111,
              "#46039f"
             ],
             [
              0.2222222222222222,
              "#7201a8"
             ],
             [
              0.3333333333333333,
              "#9c179e"
             ],
             [
              0.4444444444444444,
              "#bd3786"
             ],
             [
              0.5555555555555556,
              "#d8576b"
             ],
             [
              0.6666666666666666,
              "#ed7953"
             ],
             [
              0.7777777777777778,
              "#fb9f3a"
             ],
             [
              0.8888888888888888,
              "#fdca26"
             ],
             [
              1,
              "#f0f921"
             ]
            ],
            "type": "contour"
           }
          ],
          "contourcarpet": [
           {
            "colorbar": {
             "outlinewidth": 0,
             "ticks": ""
            },
            "type": "contourcarpet"
           }
          ],
          "heatmap": [
           {
            "colorbar": {
             "outlinewidth": 0,
             "ticks": ""
            },
            "colorscale": [
             [
              0,
              "#0d0887"
             ],
             [
              0.1111111111111111,
              "#46039f"
             ],
             [
              0.2222222222222222,
              "#7201a8"
             ],
             [
              0.3333333333333333,
              "#9c179e"
             ],
             [
              0.4444444444444444,
              "#bd3786"
             ],
             [
              0.5555555555555556,
              "#d8576b"
             ],
             [
              0.6666666666666666,
              "#ed7953"
             ],
             [
              0.7777777777777778,
              "#fb9f3a"
             ],
             [
              0.8888888888888888,
              "#fdca26"
             ],
             [
              1,
              "#f0f921"
             ]
            ],
            "type": "heatmap"
           }
          ],
          "heatmapgl": [
           {
            "colorbar": {
             "outlinewidth": 0,
             "ticks": ""
            },
            "colorscale": [
             [
              0,
              "#0d0887"
             ],
             [
              0.1111111111111111,
              "#46039f"
             ],
             [
              0.2222222222222222,
              "#7201a8"
             ],
             [
              0.3333333333333333,
              "#9c179e"
             ],
             [
              0.4444444444444444,
              "#bd3786"
             ],
             [
              0.5555555555555556,
              "#d8576b"
             ],
             [
              0.6666666666666666,
              "#ed7953"
             ],
             [
              0.7777777777777778,
              "#fb9f3a"
             ],
             [
              0.8888888888888888,
              "#fdca26"
             ],
             [
              1,
              "#f0f921"
             ]
            ],
            "type": "heatmapgl"
           }
          ],
          "histogram": [
           {
            "marker": {
             "colorbar": {
              "outlinewidth": 0,
              "ticks": ""
             }
            },
            "type": "histogram"
           }
          ],
          "histogram2d": [
           {
            "colorbar": {
             "outlinewidth": 0,
             "ticks": ""
            },
            "colorscale": [
             [
              0,
              "#0d0887"
             ],
             [
              0.1111111111111111,
              "#46039f"
             ],
             [
              0.2222222222222222,
              "#7201a8"
             ],
             [
              0.3333333333333333,
              "#9c179e"
             ],
             [
              0.4444444444444444,
              "#bd3786"
             ],
             [
              0.5555555555555556,
              "#d8576b"
             ],
             [
              0.6666666666666666,
              "#ed7953"
             ],
             [
              0.7777777777777778,
              "#fb9f3a"
             ],
             [
              0.8888888888888888,
              "#fdca26"
             ],
             [
              1,
              "#f0f921"
             ]
            ],
            "type": "histogram2d"
           }
          ],
          "histogram2dcontour": [
           {
            "colorbar": {
             "outlinewidth": 0,
             "ticks": ""
            },
            "colorscale": [
             [
              0,
              "#0d0887"
             ],
             [
              0.1111111111111111,
              "#46039f"
             ],
             [
              0.2222222222222222,
              "#7201a8"
             ],
             [
              0.3333333333333333,
              "#9c179e"
             ],
             [
              0.4444444444444444,
              "#bd3786"
             ],
             [
              0.5555555555555556,
              "#d8576b"
             ],
             [
              0.6666666666666666,
              "#ed7953"
             ],
             [
              0.7777777777777778,
              "#fb9f3a"
             ],
             [
              0.8888888888888888,
              "#fdca26"
             ],
             [
              1,
              "#f0f921"
             ]
            ],
            "type": "histogram2dcontour"
           }
          ],
          "mesh3d": [
           {
            "colorbar": {
             "outlinewidth": 0,
             "ticks": ""
            },
            "type": "mesh3d"
           }
          ],
          "parcoords": [
           {
            "line": {
             "colorbar": {
              "outlinewidth": 0,
              "ticks": ""
             }
            },
            "type": "parcoords"
           }
          ],
          "pie": [
           {
            "automargin": true,
            "type": "pie"
           }
          ],
          "scatter": [
           {
            "marker": {
             "colorbar": {
              "outlinewidth": 0,
              "ticks": ""
             }
            },
            "type": "scatter"
           }
          ],
          "scatter3d": [
           {
            "line": {
             "colorbar": {
              "outlinewidth": 0,
              "ticks": ""
             }
            },
            "marker": {
             "colorbar": {
              "outlinewidth": 0,
              "ticks": ""
             }
            },
            "type": "scatter3d"
           }
          ],
          "scattercarpet": [
           {
            "marker": {
             "colorbar": {
              "outlinewidth": 0,
              "ticks": ""
             }
            },
            "type": "scattercarpet"
           }
          ],
          "scattergeo": [
           {
            "marker": {
             "colorbar": {
              "outlinewidth": 0,
              "ticks": ""
             }
            },
            "type": "scattergeo"
           }
          ],
          "scattergl": [
           {
            "marker": {
             "colorbar": {
              "outlinewidth": 0,
              "ticks": ""
             }
            },
            "type": "scattergl"
           }
          ],
          "scattermapbox": [
           {
            "marker": {
             "colorbar": {
              "outlinewidth": 0,
              "ticks": ""
             }
            },
            "type": "scattermapbox"
           }
          ],
          "scatterpolar": [
           {
            "marker": {
             "colorbar": {
              "outlinewidth": 0,
              "ticks": ""
             }
            },
            "type": "scatterpolar"
           }
          ],
          "scatterpolargl": [
           {
            "marker": {
             "colorbar": {
              "outlinewidth": 0,
              "ticks": ""
             }
            },
            "type": "scatterpolargl"
           }
          ],
          "scatterternary": [
           {
            "marker": {
             "colorbar": {
              "outlinewidth": 0,
              "ticks": ""
             }
            },
            "type": "scatterternary"
           }
          ],
          "surface": [
           {
            "colorbar": {
             "outlinewidth": 0,
             "ticks": ""
            },
            "colorscale": [
             [
              0,
              "#0d0887"
             ],
             [
              0.1111111111111111,
              "#46039f"
             ],
             [
              0.2222222222222222,
              "#7201a8"
             ],
             [
              0.3333333333333333,
              "#9c179e"
             ],
             [
              0.4444444444444444,
              "#bd3786"
             ],
             [
              0.5555555555555556,
              "#d8576b"
             ],
             [
              0.6666666666666666,
              "#ed7953"
             ],
             [
              0.7777777777777778,
              "#fb9f3a"
             ],
             [
              0.8888888888888888,
              "#fdca26"
             ],
             [
              1,
              "#f0f921"
             ]
            ],
            "type": "surface"
           }
          ],
          "table": [
           {
            "cells": {
             "fill": {
              "color": "#EBF0F8"
             },
             "line": {
              "color": "white"
             }
            },
            "header": {
             "fill": {
              "color": "#C8D4E3"
             },
             "line": {
              "color": "white"
             }
            },
            "type": "table"
           }
          ]
         },
         "layout": {
          "annotationdefaults": {
           "arrowcolor": "#2a3f5f",
           "arrowhead": 0,
           "arrowwidth": 1
          },
          "autotypenumbers": "strict",
          "coloraxis": {
           "colorbar": {
            "outlinewidth": 0,
            "ticks": ""
           }
          },
          "colorscale": {
           "diverging": [
            [
             0,
             "#8e0152"
            ],
            [
             0.1,
             "#c51b7d"
            ],
            [
             0.2,
             "#de77ae"
            ],
            [
             0.3,
             "#f1b6da"
            ],
            [
             0.4,
             "#fde0ef"
            ],
            [
             0.5,
             "#f7f7f7"
            ],
            [
             0.6,
             "#e6f5d0"
            ],
            [
             0.7,
             "#b8e186"
            ],
            [
             0.8,
             "#7fbc41"
            ],
            [
             0.9,
             "#4d9221"
            ],
            [
             1,
             "#276419"
            ]
           ],
           "sequential": [
            [
             0,
             "#0d0887"
            ],
            [
             0.1111111111111111,
             "#46039f"
            ],
            [
             0.2222222222222222,
             "#7201a8"
            ],
            [
             0.3333333333333333,
             "#9c179e"
            ],
            [
             0.4444444444444444,
             "#bd3786"
            ],
            [
             0.5555555555555556,
             "#d8576b"
            ],
            [
             0.6666666666666666,
             "#ed7953"
            ],
            [
             0.7777777777777778,
             "#fb9f3a"
            ],
            [
             0.8888888888888888,
             "#fdca26"
            ],
            [
             1,
             "#f0f921"
            ]
           ],
           "sequentialminus": [
            [
             0,
             "#0d0887"
            ],
            [
             0.1111111111111111,
             "#46039f"
            ],
            [
             0.2222222222222222,
             "#7201a8"
            ],
            [
             0.3333333333333333,
             "#9c179e"
            ],
            [
             0.4444444444444444,
             "#bd3786"
            ],
            [
             0.5555555555555556,
             "#d8576b"
            ],
            [
             0.6666666666666666,
             "#ed7953"
            ],
            [
             0.7777777777777778,
             "#fb9f3a"
            ],
            [
             0.8888888888888888,
             "#fdca26"
            ],
            [
             1,
             "#f0f921"
            ]
           ]
          },
          "colorway": [
           "#636efa",
           "#EF553B",
           "#00cc96",
           "#ab63fa",
           "#FFA15A",
           "#19d3f3",
           "#FF6692",
           "#B6E880",
           "#FF97FF",
           "#FECB52"
          ],
          "font": {
           "color": "#2a3f5f"
          },
          "geo": {
           "bgcolor": "white",
           "lakecolor": "white",
           "landcolor": "#E5ECF6",
           "showlakes": true,
           "showland": true,
           "subunitcolor": "white"
          },
          "hoverlabel": {
           "align": "left"
          },
          "hovermode": "closest",
          "mapbox": {
           "style": "light"
          },
          "paper_bgcolor": "white",
          "plot_bgcolor": "#E5ECF6",
          "polar": {
           "angularaxis": {
            "gridcolor": "white",
            "linecolor": "white",
            "ticks": ""
           },
           "bgcolor": "#E5ECF6",
           "radialaxis": {
            "gridcolor": "white",
            "linecolor": "white",
            "ticks": ""
           }
          },
          "scene": {
           "xaxis": {
            "backgroundcolor": "#E5ECF6",
            "gridcolor": "white",
            "gridwidth": 2,
            "linecolor": "white",
            "showbackground": true,
            "ticks": "",
            "zerolinecolor": "white"
           },
           "yaxis": {
            "backgroundcolor": "#E5ECF6",
            "gridcolor": "white",
            "gridwidth": 2,
            "linecolor": "white",
            "showbackground": true,
            "ticks": "",
            "zerolinecolor": "white"
           },
           "zaxis": {
            "backgroundcolor": "#E5ECF6",
            "gridcolor": "white",
            "gridwidth": 2,
            "linecolor": "white",
            "showbackground": true,
            "ticks": "",
            "zerolinecolor": "white"
           }
          },
          "shapedefaults": {
           "line": {
            "color": "#2a3f5f"
           }
          },
          "ternary": {
           "aaxis": {
            "gridcolor": "white",
            "linecolor": "white",
            "ticks": ""
           },
           "baxis": {
            "gridcolor": "white",
            "linecolor": "white",
            "ticks": ""
           },
           "bgcolor": "#E5ECF6",
           "caxis": {
            "gridcolor": "white",
            "linecolor": "white",
            "ticks": ""
           }
          },
          "title": {
           "x": 0.05
          },
          "xaxis": {
           "automargin": true,
           "gridcolor": "white",
           "linecolor": "white",
           "ticks": "",
           "title": {
            "standoff": 15
           },
           "zerolinecolor": "white",
           "zerolinewidth": 2
          },
          "yaxis": {
           "automargin": true,
           "gridcolor": "white",
           "linecolor": "white",
           "ticks": "",
           "title": {
            "standoff": 15
           },
           "zerolinecolor": "white",
           "zerolinewidth": 2
          }
         }
        }
       }
      },
      "text/html": [
       "<div>                            <div id=\"1e6cd4eb-694d-48e7-a32d-5aa519cbe828\" class=\"plotly-graph-div\" style=\"height:525px; width:100%;\"></div>            <script type=\"text/javascript\">                require([\"plotly\"], function(Plotly) {                    window.PLOTLYENV=window.PLOTLYENV || {};                                    if (document.getElementById(\"1e6cd4eb-694d-48e7-a32d-5aa519cbe828\")) {                    Plotly.newPlot(                        \"1e6cd4eb-694d-48e7-a32d-5aa519cbe828\",                        [{\"type\": \"heatmap\", \"x\": [\"Score\", \"GDP_Per_Capita\", \"Social_Support\", \"Healthy_Life_Expectancy\", \"Freedom_to_Make_Life_Choices\", \"Generosity\", \"Perceptions_of_Corruption\"], \"y\": [\"Score\", \"GDP_Per_Capita\", \"Social_Support\", \"Healthy_Life_Expectancy\", \"Freedom_to_Make_Life_Choices\", \"Generosity\", \"Perceptions_of_Corruption\"], \"z\": [[1.0, 0.7957382141897393, 0.7638183216421868, 0.7744883716648048, 0.5363509759854473, 0.11572840081563071, 0.4167430399627998], [0.7957382141897393, 1.0, 0.7633364304479053, 0.8201440059988039, 0.36396590054536204, -0.07087235219347071, 0.3213841195616457], [0.7638183216421868, 0.7633364304479053, 1.0, 0.7027228216015206, 0.4067062847967029, -0.004990295957853587, 0.21344652513003298], [0.7744883716648048, 0.8201440059988039, 0.7027228216015206, 1.0, 0.3698623299866762, -0.0023433916567949954, 0.30520940921858675], [0.5363509759854473, 0.36396590054536204, 0.4067062847967029, 0.3698623299866762, 1.0, 0.32174795854264093, 0.4561659437122473], [0.11572840081563071, -0.07087235219347071, -0.004990295957853587, -0.0023433916567949954, 0.32174795854264093, 1.0, 0.32060791737711347], [0.4167430399627998, 0.3213841195616457, 0.21344652513003298, 0.30520940921858675, 0.4561659437122473, 0.32060791737711347, 1.0]]}],                        {\"template\": {\"data\": {\"bar\": [{\"error_x\": {\"color\": \"#2a3f5f\"}, \"error_y\": {\"color\": \"#2a3f5f\"}, \"marker\": {\"line\": {\"color\": \"#E5ECF6\", \"width\": 0.5}}, \"type\": \"bar\"}], \"barpolar\": [{\"marker\": {\"line\": {\"color\": \"#E5ECF6\", \"width\": 0.5}}, \"type\": \"barpolar\"}], \"carpet\": [{\"aaxis\": {\"endlinecolor\": \"#2a3f5f\", \"gridcolor\": \"white\", \"linecolor\": \"white\", \"minorgridcolor\": \"white\", \"startlinecolor\": \"#2a3f5f\"}, \"baxis\": {\"endlinecolor\": \"#2a3f5f\", \"gridcolor\": \"white\", \"linecolor\": \"white\", \"minorgridcolor\": \"white\", \"startlinecolor\": \"#2a3f5f\"}, \"type\": \"carpet\"}], \"choropleth\": [{\"colorbar\": {\"outlinewidth\": 0, \"ticks\": \"\"}, \"type\": \"choropleth\"}], \"contour\": [{\"colorbar\": {\"outlinewidth\": 0, \"ticks\": \"\"}, \"colorscale\": [[0.0, \"#0d0887\"], [0.1111111111111111, \"#46039f\"], [0.2222222222222222, \"#7201a8\"], [0.3333333333333333, \"#9c179e\"], [0.4444444444444444, \"#bd3786\"], [0.5555555555555556, \"#d8576b\"], [0.6666666666666666, \"#ed7953\"], [0.7777777777777778, \"#fb9f3a\"], [0.8888888888888888, \"#fdca26\"], [1.0, \"#f0f921\"]], \"type\": \"contour\"}], \"contourcarpet\": [{\"colorbar\": {\"outlinewidth\": 0, \"ticks\": \"\"}, \"type\": \"contourcarpet\"}], \"heatmap\": [{\"colorbar\": {\"outlinewidth\": 0, \"ticks\": \"\"}, \"colorscale\": [[0.0, \"#0d0887\"], [0.1111111111111111, \"#46039f\"], [0.2222222222222222, \"#7201a8\"], [0.3333333333333333, \"#9c179e\"], [0.4444444444444444, \"#bd3786\"], [0.5555555555555556, \"#d8576b\"], [0.6666666666666666, \"#ed7953\"], [0.7777777777777778, \"#fb9f3a\"], [0.8888888888888888, \"#fdca26\"], [1.0, \"#f0f921\"]], \"type\": \"heatmap\"}], \"heatmapgl\": [{\"colorbar\": {\"outlinewidth\": 0, \"ticks\": \"\"}, \"colorscale\": [[0.0, \"#0d0887\"], [0.1111111111111111, \"#46039f\"], [0.2222222222222222, \"#7201a8\"], [0.3333333333333333, \"#9c179e\"], [0.4444444444444444, \"#bd3786\"], [0.5555555555555556, \"#d8576b\"], [0.6666666666666666, \"#ed7953\"], [0.7777777777777778, \"#fb9f3a\"], [0.8888888888888888, \"#fdca26\"], [1.0, \"#f0f921\"]], \"type\": \"heatmapgl\"}], \"histogram\": [{\"marker\": {\"colorbar\": {\"outlinewidth\": 0, \"ticks\": \"\"}}, \"type\": \"histogram\"}], \"histogram2d\": [{\"colorbar\": {\"outlinewidth\": 0, \"ticks\": \"\"}, \"colorscale\": [[0.0, \"#0d0887\"], [0.1111111111111111, \"#46039f\"], [0.2222222222222222, \"#7201a8\"], [0.3333333333333333, \"#9c179e\"], [0.4444444444444444, \"#bd3786\"], [0.5555555555555556, \"#d8576b\"], [0.6666666666666666, \"#ed7953\"], [0.7777777777777778, \"#fb9f3a\"], [0.8888888888888888, \"#fdca26\"], [1.0, \"#f0f921\"]], \"type\": \"histogram2d\"}], \"histogram2dcontour\": [{\"colorbar\": {\"outlinewidth\": 0, \"ticks\": \"\"}, \"colorscale\": [[0.0, \"#0d0887\"], [0.1111111111111111, \"#46039f\"], [0.2222222222222222, \"#7201a8\"], [0.3333333333333333, \"#9c179e\"], [0.4444444444444444, \"#bd3786\"], [0.5555555555555556, \"#d8576b\"], [0.6666666666666666, \"#ed7953\"], [0.7777777777777778, \"#fb9f3a\"], [0.8888888888888888, \"#fdca26\"], [1.0, \"#f0f921\"]], \"type\": \"histogram2dcontour\"}], \"mesh3d\": [{\"colorbar\": {\"outlinewidth\": 0, \"ticks\": \"\"}, \"type\": \"mesh3d\"}], \"parcoords\": [{\"line\": {\"colorbar\": {\"outlinewidth\": 0, \"ticks\": \"\"}}, \"type\": \"parcoords\"}], \"pie\": [{\"automargin\": true, \"type\": \"pie\"}], \"scatter\": [{\"marker\": {\"colorbar\": {\"outlinewidth\": 0, \"ticks\": \"\"}}, \"type\": \"scatter\"}], \"scatter3d\": [{\"line\": {\"colorbar\": {\"outlinewidth\": 0, \"ticks\": \"\"}}, \"marker\": {\"colorbar\": {\"outlinewidth\": 0, \"ticks\": \"\"}}, \"type\": \"scatter3d\"}], \"scattercarpet\": [{\"marker\": {\"colorbar\": {\"outlinewidth\": 0, \"ticks\": \"\"}}, \"type\": \"scattercarpet\"}], \"scattergeo\": [{\"marker\": {\"colorbar\": {\"outlinewidth\": 0, \"ticks\": \"\"}}, \"type\": \"scattergeo\"}], \"scattergl\": [{\"marker\": {\"colorbar\": {\"outlinewidth\": 0, \"ticks\": \"\"}}, \"type\": \"scattergl\"}], \"scattermapbox\": [{\"marker\": {\"colorbar\": {\"outlinewidth\": 0, \"ticks\": \"\"}}, \"type\": \"scattermapbox\"}], \"scatterpolar\": [{\"marker\": {\"colorbar\": {\"outlinewidth\": 0, \"ticks\": \"\"}}, \"type\": \"scatterpolar\"}], \"scatterpolargl\": [{\"marker\": {\"colorbar\": {\"outlinewidth\": 0, \"ticks\": \"\"}}, \"type\": \"scatterpolargl\"}], \"scatterternary\": [{\"marker\": {\"colorbar\": {\"outlinewidth\": 0, \"ticks\": \"\"}}, \"type\": \"scatterternary\"}], \"surface\": [{\"colorbar\": {\"outlinewidth\": 0, \"ticks\": \"\"}, \"colorscale\": [[0.0, \"#0d0887\"], [0.1111111111111111, \"#46039f\"], [0.2222222222222222, \"#7201a8\"], [0.3333333333333333, \"#9c179e\"], [0.4444444444444444, \"#bd3786\"], [0.5555555555555556, \"#d8576b\"], [0.6666666666666666, \"#ed7953\"], [0.7777777777777778, \"#fb9f3a\"], [0.8888888888888888, \"#fdca26\"], [1.0, \"#f0f921\"]], \"type\": \"surface\"}], \"table\": [{\"cells\": {\"fill\": {\"color\": \"#EBF0F8\"}, \"line\": {\"color\": \"white\"}}, \"header\": {\"fill\": {\"color\": \"#C8D4E3\"}, \"line\": {\"color\": \"white\"}}, \"type\": \"table\"}]}, \"layout\": {\"annotationdefaults\": {\"arrowcolor\": \"#2a3f5f\", \"arrowhead\": 0, \"arrowwidth\": 1}, \"autotypenumbers\": \"strict\", \"coloraxis\": {\"colorbar\": {\"outlinewidth\": 0, \"ticks\": \"\"}}, \"colorscale\": {\"diverging\": [[0, \"#8e0152\"], [0.1, \"#c51b7d\"], [0.2, \"#de77ae\"], [0.3, \"#f1b6da\"], [0.4, \"#fde0ef\"], [0.5, \"#f7f7f7\"], [0.6, \"#e6f5d0\"], [0.7, \"#b8e186\"], [0.8, \"#7fbc41\"], [0.9, \"#4d9221\"], [1, \"#276419\"]], \"sequential\": [[0.0, \"#0d0887\"], [0.1111111111111111, \"#46039f\"], [0.2222222222222222, \"#7201a8\"], [0.3333333333333333, \"#9c179e\"], [0.4444444444444444, \"#bd3786\"], [0.5555555555555556, \"#d8576b\"], [0.6666666666666666, \"#ed7953\"], [0.7777777777777778, \"#fb9f3a\"], [0.8888888888888888, \"#fdca26\"], [1.0, \"#f0f921\"]], \"sequentialminus\": [[0.0, \"#0d0887\"], [0.1111111111111111, \"#46039f\"], [0.2222222222222222, \"#7201a8\"], [0.3333333333333333, \"#9c179e\"], [0.4444444444444444, \"#bd3786\"], [0.5555555555555556, \"#d8576b\"], [0.6666666666666666, \"#ed7953\"], [0.7777777777777778, \"#fb9f3a\"], [0.8888888888888888, \"#fdca26\"], [1.0, \"#f0f921\"]]}, \"colorway\": [\"#636efa\", \"#EF553B\", \"#00cc96\", \"#ab63fa\", \"#FFA15A\", \"#19d3f3\", \"#FF6692\", \"#B6E880\", \"#FF97FF\", \"#FECB52\"], \"font\": {\"color\": \"#2a3f5f\"}, \"geo\": {\"bgcolor\": \"white\", \"lakecolor\": \"white\", \"landcolor\": \"#E5ECF6\", \"showlakes\": true, \"showland\": true, \"subunitcolor\": \"white\"}, \"hoverlabel\": {\"align\": \"left\"}, \"hovermode\": \"closest\", \"mapbox\": {\"style\": \"light\"}, \"paper_bgcolor\": \"white\", \"plot_bgcolor\": \"#E5ECF6\", \"polar\": {\"angularaxis\": {\"gridcolor\": \"white\", \"linecolor\": \"white\", \"ticks\": \"\"}, \"bgcolor\": \"#E5ECF6\", \"radialaxis\": {\"gridcolor\": \"white\", \"linecolor\": \"white\", \"ticks\": \"\"}}, \"scene\": {\"xaxis\": {\"backgroundcolor\": \"#E5ECF6\", \"gridcolor\": \"white\", \"gridwidth\": 2, \"linecolor\": \"white\", \"showbackground\": true, \"ticks\": \"\", \"zerolinecolor\": \"white\"}, \"yaxis\": {\"backgroundcolor\": \"#E5ECF6\", \"gridcolor\": \"white\", \"gridwidth\": 2, \"linecolor\": \"white\", \"showbackground\": true, \"ticks\": \"\", \"zerolinecolor\": \"white\"}, \"zaxis\": {\"backgroundcolor\": \"#E5ECF6\", \"gridcolor\": \"white\", \"gridwidth\": 2, \"linecolor\": \"white\", \"showbackground\": true, \"ticks\": \"\", \"zerolinecolor\": \"white\"}}, \"shapedefaults\": {\"line\": {\"color\": \"#2a3f5f\"}}, \"ternary\": {\"aaxis\": {\"gridcolor\": \"white\", \"linecolor\": \"white\", \"ticks\": \"\"}, \"baxis\": {\"gridcolor\": \"white\", \"linecolor\": \"white\", \"ticks\": \"\"}, \"bgcolor\": \"#E5ECF6\", \"caxis\": {\"gridcolor\": \"white\", \"linecolor\": \"white\", \"ticks\": \"\"}}, \"title\": {\"x\": 0.05}, \"xaxis\": {\"automargin\": true, \"gridcolor\": \"white\", \"linecolor\": \"white\", \"ticks\": \"\", \"title\": {\"standoff\": 15}, \"zerolinecolor\": \"white\", \"zerolinewidth\": 2}, \"yaxis\": {\"automargin\": true, \"gridcolor\": \"white\", \"linecolor\": \"white\", \"ticks\": \"\", \"title\": {\"standoff\": 15}, \"zerolinecolor\": \"white\", \"zerolinewidth\": 2}}}},                        {\"responsive\": true}                    ).then(function(){\n",
       "                            \n",
       "var gd = document.getElementById('1e6cd4eb-694d-48e7-a32d-5aa519cbe828');\n",
       "var x = new MutationObserver(function (mutations, observer) {{\n",
       "        var display = window.getComputedStyle(gd).display;\n",
       "        if (!display || display === 'none') {{\n",
       "            console.log([gd, 'removed!']);\n",
       "            Plotly.purge(gd);\n",
       "            observer.disconnect();\n",
       "        }}\n",
       "}});\n",
       "\n",
       "// Listen for the removal of the full notebook cells\n",
       "var notebookContainer = gd.closest('#notebook-container');\n",
       "if (notebookContainer) {{\n",
       "    x.observe(notebookContainer, {childList: true});\n",
       "}}\n",
       "\n",
       "// Listen for the clearing of the current output cell\n",
       "var outputEl = gd.closest('.output');\n",
       "if (outputEl) {{\n",
       "    x.observe(outputEl, {childList: true});\n",
       "}}\n",
       "\n",
       "                        })                };                });            </script>        </div>"
      ]
     },
     "metadata": {},
     "output_type": "display_data"
    }
   ],
   "source": [
    "correlation_matrix = drop_rank.corr()\n",
    "correlation_happy = go.Heatmap(z=np.array(correlation_matrix), x=correlation_matrix.columns, y=corr_matrix_happy.columns)\n",
    "happy_heatmap = [correlation_happy]\n",
    "iplot(happy_heatmap)"
   ]
  },
  {
   "cell_type": "code",
   "execution_count": 926,
   "metadata": {},
   "outputs": [
    {
     "data": {
      "text/html": [
       "<div>\n",
       "<style scoped>\n",
       "    .dataframe tbody tr th:only-of-type {\n",
       "        vertical-align: middle;\n",
       "    }\n",
       "\n",
       "    .dataframe tbody tr th {\n",
       "        vertical-align: top;\n",
       "    }\n",
       "\n",
       "    .dataframe thead th {\n",
       "        text-align: right;\n",
       "    }\n",
       "</style>\n",
       "<table border=\"1\" class=\"dataframe\">\n",
       "  <thead>\n",
       "    <tr style=\"text-align: right;\">\n",
       "      <th></th>\n",
       "      <th>Score</th>\n",
       "      <th>GDP_Per_Capita</th>\n",
       "      <th>Social_Support</th>\n",
       "      <th>Healthy_Life_Expectancy</th>\n",
       "      <th>Freedom_to_Make_Life_Choices</th>\n",
       "      <th>Generosity</th>\n",
       "      <th>Perceptions_of_Corruption</th>\n",
       "    </tr>\n",
       "  </thead>\n",
       "  <tbody>\n",
       "    <tr>\n",
       "      <th>0</th>\n",
       "      <td>7.769</td>\n",
       "      <td>1.340</td>\n",
       "      <td>1.587</td>\n",
       "      <td>0.986</td>\n",
       "      <td>0.596</td>\n",
       "      <td>0.153</td>\n",
       "      <td>0.393</td>\n",
       "    </tr>\n",
       "    <tr>\n",
       "      <th>1</th>\n",
       "      <td>7.600</td>\n",
       "      <td>1.383</td>\n",
       "      <td>1.573</td>\n",
       "      <td>0.996</td>\n",
       "      <td>0.592</td>\n",
       "      <td>0.252</td>\n",
       "      <td>0.410</td>\n",
       "    </tr>\n",
       "    <tr>\n",
       "      <th>2</th>\n",
       "      <td>7.554</td>\n",
       "      <td>1.488</td>\n",
       "      <td>1.582</td>\n",
       "      <td>1.028</td>\n",
       "      <td>0.603</td>\n",
       "      <td>0.271</td>\n",
       "      <td>0.341</td>\n",
       "    </tr>\n",
       "    <tr>\n",
       "      <th>3</th>\n",
       "      <td>7.494</td>\n",
       "      <td>1.380</td>\n",
       "      <td>1.624</td>\n",
       "      <td>1.026</td>\n",
       "      <td>0.591</td>\n",
       "      <td>0.354</td>\n",
       "      <td>0.118</td>\n",
       "    </tr>\n",
       "    <tr>\n",
       "      <th>4</th>\n",
       "      <td>7.488</td>\n",
       "      <td>1.396</td>\n",
       "      <td>1.522</td>\n",
       "      <td>0.999</td>\n",
       "      <td>0.557</td>\n",
       "      <td>0.322</td>\n",
       "      <td>0.298</td>\n",
       "    </tr>\n",
       "  </tbody>\n",
       "</table>\n",
       "</div>"
      ],
      "text/plain": [
       "   Score  GDP_Per_Capita  Social_Support  Healthy_Life_Expectancy  \\\n",
       "0  7.769           1.340           1.587                    0.986   \n",
       "1  7.600           1.383           1.573                    0.996   \n",
       "2  7.554           1.488           1.582                    1.028   \n",
       "3  7.494           1.380           1.624                    1.026   \n",
       "4  7.488           1.396           1.522                    0.999   \n",
       "\n",
       "   Freedom_to_Make_Life_Choices  Generosity  Perceptions_of_Corruption  \n",
       "0                         0.596       0.153                      0.393  \n",
       "1                         0.592       0.252                      0.410  \n",
       "2                         0.603       0.271                      0.341  \n",
       "3                         0.591       0.354                      0.118  \n",
       "4                         0.557       0.322                      0.298  "
      ]
     },
     "execution_count": 926,
     "metadata": {},
     "output_type": "execute_result"
    }
   ],
   "source": [
    "from sklearn.linear_model import LinearRegression\n",
    "\n",
    "dropped_country_name = drop_rank.drop('Country', axis = 1)\n",
    "\n",
    "dropped_country_name.head()\n",
    "\n",
    "# Drop names of countries since it is not a numerical variable."
   ]
  },
  {
   "cell_type": "code",
   "execution_count": 927,
   "metadata": {},
   "outputs": [
    {
     "data": {
      "image/png": "[encoded data removed]",
      "text/plain": [
       "<Figure size 432x288 with 1 Axes>"
      ]
     },
     "metadata": {
      "needs_background": "light"
     },
     "output_type": "display_data"
    }
   ],
   "source": [
    "# Chose the feature with the highest correlation given the heatmap to train and test\n",
    "\n",
    "# Here we can see the relationship between healthy life expectancy and a country's happiness score\n",
    "\n",
    "plt.scatter(dropped_country_name['Healthy_Life_Expectancy'], dropped_country_name['Score'])\n",
    "plt.title('Healthy Life Expectancy v. Happiness Score')\n",
    "plt.xlabel('Healthy Life Expectancy (%)')\n",
    "plt.ylabel('Score')\n",
    "plt.show()"
   ]
  },
  {
   "cell_type": "code",
   "execution_count": 928,
   "metadata": {},
   "outputs": [],
   "source": [
    "happiness_X = dropped_country_name['Healthy_Life_Expectancy']\n",
    "\n",
    "happiness_Y = dropped_country_name['Score']"
   ]
  },
  {
   "cell_type": "code",
   "execution_count": 929,
   "metadata": {},
   "outputs": [],
   "source": [
    "from sklearn.linear_model import LinearRegression\n",
    "\n",
    "clf = LinearRegression()"
   ]
  },
  {
   "cell_type": "code",
   "execution_count": 930,
   "metadata": {},
   "outputs": [
    {
     "data": {
      "text/plain": [
       "LinearRegression()"
      ]
     },
     "execution_count": 930,
     "metadata": {},
     "output_type": "execute_result"
    }
   ],
   "source": [
    "clf.fit(happiness_X.values.reshape(-1,1), happiness_Y.values.reshape(-1,1))"
   ]
  },
  {
   "cell_type": "code",
   "execution_count": 931,
   "metadata": {},
   "outputs": [
    {
     "data": {
      "text/plain": [
       "array([[6.36610359],\n",
       "       [6.40256231],\n",
       "       [6.51923021],\n",
       "       [6.51193847],\n",
       "       [6.41349992],\n",
       "       [6.60673114],\n",
       "       [6.44995865],\n",
       "       [6.51193847],\n",
       "       [6.55933481],\n",
       "       [6.47547975],\n",
       "       [6.54839719],\n",
       "       [6.28224853],\n",
       "       [6.52287609],\n",
       "       [6.46089626],\n",
       "       [6.40256231],\n",
       "       [6.41349992],\n",
       "       [6.36974946],\n",
       "       [6.36610359],\n",
       "       [5.95776592],\n",
       "       [6.12547603],\n",
       "       [5.77911819],\n",
       "       [6.41349992],\n",
       "       [5.91036958],\n",
       "       [6.58121004],\n",
       "       [6.12547603],\n",
       "       [5.49109429],\n",
       "       [5.66974202],\n",
       "       [6.64318986],\n",
       "       [6.08901731],\n",
       "       [5.69526313],\n",
       "       [6.01974574],\n",
       "       [6.93121376],\n",
       "       [5.64786679],\n",
       "       [6.55933481],\n",
       "       [5.9468283 ],\n",
       "       [5.98328702],\n",
       "       [5.99422464],\n",
       "       [5.52755301],\n",
       "       [5.75359708],\n",
       "       [5.83745214],\n",
       "       [6.24578981],\n",
       "       [5.81557691],\n",
       "       [5.53484476],\n",
       "       [5.98328702],\n",
       "       [5.77911819],\n",
       "       [6.57027242],\n",
       "       [5.93589068],\n",
       "       [5.71713836],\n",
       "       [5.7900558 ],\n",
       "       [5.73172185],\n",
       "       [6.54839719],\n",
       "       [5.95776592],\n",
       "       [5.80099342],\n",
       "       [5.68067964],\n",
       "       [6.73798254],\n",
       "       [5.7900558 ],\n",
       "       [5.42911447],\n",
       "       [5.34525941],\n",
       "       [5.7900558 ],\n",
       "       [5.60411633],\n",
       "       [5.88484848],\n",
       "       [6.41349992],\n",
       "       [4.72181529],\n",
       "       [5.41817685],\n",
       "       [5.16661168],\n",
       "       [5.88484848],\n",
       "       [5.46557319],\n",
       "       [5.22494563],\n",
       "       [5.9468283 ],\n",
       "       [5.38900987],\n",
       "       [6.1036008 ],\n",
       "       [5.61140807],\n",
       "       [5.85203563],\n",
       "       [5.71713836],\n",
       "       [5.7900558 ],\n",
       "       [5.64786679],\n",
       "       [6.41349992],\n",
       "       [5.2030704 ],\n",
       "       [5.82651452],\n",
       "       [3.66451239],\n",
       "       [5.40723924],\n",
       "       [5.16661168],\n",
       "       [5.6332833 ],\n",
       "       [5.62234569],\n",
       "       [5.57494935],\n",
       "       [5.74265947],\n",
       "       [5.1775493 ],\n",
       "       [6.02703749],\n",
       "       [5.87391086],\n",
       "       [3.97805739],\n",
       "       [5.74265947],\n",
       "       [4.54316756],\n",
       "       [3.61711605],\n",
       "       [5.23952912],\n",
       "       [5.74265947],\n",
       "       [4.21868494],\n",
       "       [4.62337674],\n",
       "       [4.85306668],\n",
       "       [4.78014924],\n",
       "       [4.48118773],\n",
       "       [5.95776592],\n",
       "       [5.70620074],\n",
       "       [5.09369424],\n",
       "       [5.22129976],\n",
       "       [4.85306668],\n",
       "       [4.51035471],\n",
       "       [4.10566291],\n",
       "       [4.15670512],\n",
       "       [5.74265947],\n",
       "       [5.6332833 ],\n",
       "       [4.13847576],\n",
       "       [5.51296953],\n",
       "       [4.33170698],\n",
       "       [4.8895254 ],\n",
       "       [4.55410517],\n",
       "       [4.19316384],\n",
       "       [5.74265947],\n",
       "       [5.40723924],\n",
       "       [4.8640043 ],\n",
       "       [3.89420233],\n",
       "       [3.65357477],\n",
       "       [5.80099342],\n",
       "       [4.79473273],\n",
       "       [3.47128117],\n",
       "       [5.46557319],\n",
       "       [4.71087767],\n",
       "       [2.77127373],\n",
       "       [4.38639506],\n",
       "       [5.11921534],\n",
       "       [4.32441523],\n",
       "       [4.26608128],\n",
       "       [4.91504651],\n",
       "       [4.38639506],\n",
       "       [4.61243913],\n",
       "       [4.79473273],\n",
       "       [3.38378024],\n",
       "       [4.15670512],\n",
       "       [4.34993634],\n",
       "       [4.40827029],\n",
       "       [4.7327529 ],\n",
       "       [4.57598041],\n",
       "       [4.4593125 ],\n",
       "       [5.00983918],\n",
       "       [4.59056389],\n",
       "       [4.08743355]])"
      ]
     },
     "execution_count": 931,
     "metadata": {},
     "output_type": "execute_result"
    }
   ],
   "source": [
    "y_pred = clf.predict(happiness_X.values.reshape(-1,1))\n",
    "\n",
    "y_pred"
   ]
  },
  {
   "cell_type": "code",
   "execution_count": 932,
   "metadata": {},
   "outputs": [
    {
     "data": {
      "text/plain": [
       "0.5998322378440006"
      ]
     },
     "execution_count": 932,
     "metadata": {},
     "output_type": "execute_result"
    }
   ],
   "source": [
    "clf.score(happiness_X.values.reshape(-1,1), happiness_Y.values.reshape(-1,1))\n",
    "\n",
    "# Here we can see that the accuracy of our model is roughly 56%. It's above 50% so it's not terrible, and it is a\n",
    "# linear regression, so we cannot expect a line to perfectly explain a nonlinear relationship"
   ]
  },
  {
   "cell_type": "code",
   "execution_count": 933,
   "metadata": {},
   "outputs": [
    {
     "name": "stdout",
     "output_type": "stream",
     "text": [
      "0.5998322378440006\n"
     ]
    }
   ],
   "source": [
    "r2 = sklearn.metrics.r2_score(happiness_Y, y_pred, sample_weight=None, multioutput='uniform_average')\n",
    "\n",
    "print(r2)"
   ]
  },
  {
   "cell_type": "code",
   "execution_count": 934,
   "metadata": {},
   "outputs": [
    {
     "data": {
      "image/png": "[encoded data removed]",
      "text/plain": [
       "<Figure size 432x288 with 1 Axes>"
      ]
     },
     "metadata": {
      "needs_background": "light"
     },
     "output_type": "display_data"
    }
   ],
   "source": [
    "# Our data points juxtaposed to our model\n",
    "\n",
    "plt.scatter(happiness_X, happiness_Y,  color = 'black')\n",
    "plt.plot(happiness_X, y_pred, color = 'red', linewidth = 3)\n",
    "\n",
    "plt.xticks(np.arange(0, 1.4, .2))\n",
    "plt.yticks(np.arange(2,10,1))\n",
    "plt.title('2019 Linear Regression Model on the 2019 Data')\n",
    "plt.xlabel('Healthy Life Expectancy (%)')\n",
    "plt.ylabel('Score')\n",
    "plt.show()"
   ]
  },
  {
   "cell_type": "code",
   "execution_count": 935,
   "metadata": {},
   "outputs": [],
   "source": [
    "# NOW WORKING WITH 2021 DATA\n",
    "\n",
    "filter_df = WHR_2021.filter(['Ladder score', 'Explained by: Log GDP per capita', 'Explained by: Social support', 'Explained by: Healthy life expectancy',\n",
    "                            'Explained by: Freedom to make life choices', 'Explained by: Generosity', 'Explained by: Perceptions of corruption'], axis=1)"
   ]
  },
  {
   "cell_type": "code",
   "execution_count": 936,
   "metadata": {},
   "outputs": [],
   "source": [
    "filter_df.columns = ['Score','GDP_Per_Capita', 'Social_Support', 'Healthy_Life_Expectancy', \n",
    "                    'Freedom_to_Make_Life_Choices', 'Generosity', 'Perceptions_of_Corruption']"
   ]
  },
  {
   "cell_type": "code",
   "execution_count": 937,
   "metadata": {},
   "outputs": [
    {
     "data": {
      "text/html": [
       "<div>\n",
       "<style scoped>\n",
       "    .dataframe tbody tr th:only-of-type {\n",
       "        vertical-align: middle;\n",
       "    }\n",
       "\n",
       "    .dataframe tbody tr th {\n",
       "        vertical-align: top;\n",
       "    }\n",
       "\n",
       "    .dataframe thead th {\n",
       "        text-align: right;\n",
       "    }\n",
       "</style>\n",
       "<table border=\"1\" class=\"dataframe\">\n",
       "  <thead>\n",
       "    <tr style=\"text-align: right;\">\n",
       "      <th></th>\n",
       "      <th>Score</th>\n",
       "      <th>GDP_Per_Capita</th>\n",
       "      <th>Social_Support</th>\n",
       "      <th>Healthy_Life_Expectancy</th>\n",
       "      <th>Freedom_to_Make_Life_Choices</th>\n",
       "      <th>Generosity</th>\n",
       "      <th>Perceptions_of_Corruption</th>\n",
       "    </tr>\n",
       "  </thead>\n",
       "  <tbody>\n",
       "    <tr>\n",
       "      <th>count</th>\n",
       "      <td>145.000000</td>\n",
       "      <td>145.000000</td>\n",
       "      <td>145.000000</td>\n",
       "      <td>145.000000</td>\n",
       "      <td>145.000000</td>\n",
       "      <td>145.000000</td>\n",
       "      <td>145.000000</td>\n",
       "    </tr>\n",
       "    <tr>\n",
       "      <th>mean</th>\n",
       "      <td>5.528262</td>\n",
       "      <td>0.966207</td>\n",
       "      <td>0.790069</td>\n",
       "      <td>0.513434</td>\n",
       "      <td>0.498841</td>\n",
       "      <td>0.177621</td>\n",
       "      <td>0.133669</td>\n",
       "    </tr>\n",
       "    <tr>\n",
       "      <th>std</th>\n",
       "      <td>1.084829</td>\n",
       "      <td>0.403933</td>\n",
       "      <td>0.261266</td>\n",
       "      <td>0.211462</td>\n",
       "      <td>0.139439</td>\n",
       "      <td>0.099443</td>\n",
       "      <td>0.114396</td>\n",
       "    </tr>\n",
       "    <tr>\n",
       "      <th>min</th>\n",
       "      <td>2.523000</td>\n",
       "      <td>0.000000</td>\n",
       "      <td>0.000000</td>\n",
       "      <td>0.000000</td>\n",
       "      <td>0.000000</td>\n",
       "      <td>0.000000</td>\n",
       "      <td>0.000000</td>\n",
       "    </tr>\n",
       "    <tr>\n",
       "      <th>25%</th>\n",
       "      <td>4.834000</td>\n",
       "      <td>0.665000</td>\n",
       "      <td>0.638000</td>\n",
       "      <td>0.341000</td>\n",
       "      <td>0.409000</td>\n",
       "      <td>0.103000</td>\n",
       "      <td>0.059000</td>\n",
       "    </tr>\n",
       "    <tr>\n",
       "      <th>50%</th>\n",
       "      <td>5.534000</td>\n",
       "      <td>1.008000</td>\n",
       "      <td>0.831000</td>\n",
       "      <td>0.565000</td>\n",
       "      <td>0.516000</td>\n",
       "      <td>0.163000</td>\n",
       "      <td>0.097000</td>\n",
       "    </tr>\n",
       "    <tr>\n",
       "      <th>75%</th>\n",
       "      <td>6.255000</td>\n",
       "      <td>1.304000</td>\n",
       "      <td>0.996000</td>\n",
       "      <td>0.653000</td>\n",
       "      <td>0.606000</td>\n",
       "      <td>0.241000</td>\n",
       "      <td>0.170000</td>\n",
       "    </tr>\n",
       "    <tr>\n",
       "      <th>max</th>\n",
       "      <td>7.842000</td>\n",
       "      <td>1.751000</td>\n",
       "      <td>1.172000</td>\n",
       "      <td>0.897000</td>\n",
       "      <td>0.716000</td>\n",
       "      <td>0.541000</td>\n",
       "      <td>0.547000</td>\n",
       "    </tr>\n",
       "  </tbody>\n",
       "</table>\n",
       "</div>"
      ],
      "text/plain": [
       "            Score  GDP_Per_Capita  Social_Support  Healthy_Life_Expectancy  \\\n",
       "count  145.000000      145.000000      145.000000               145.000000   \n",
       "mean     5.528262        0.966207        0.790069                 0.513434   \n",
       "std      1.084829        0.403933        0.261266                 0.211462   \n",
       "min      2.523000        0.000000        0.000000                 0.000000   \n",
       "25%      4.834000        0.665000        0.638000                 0.341000   \n",
       "50%      5.534000        1.008000        0.831000                 0.565000   \n",
       "75%      6.255000        1.304000        0.996000                 0.653000   \n",
       "max      7.842000        1.751000        1.172000                 0.897000   \n",
       "\n",
       "       Freedom_to_Make_Life_Choices  Generosity  Perceptions_of_Corruption  \n",
       "count                    145.000000  145.000000                 145.000000  \n",
       "mean                       0.498841    0.177621                   0.133669  \n",
       "std                        0.139439    0.099443                   0.114396  \n",
       "min                        0.000000    0.000000                   0.000000  \n",
       "25%                        0.409000    0.103000                   0.059000  \n",
       "50%                        0.516000    0.163000                   0.097000  \n",
       "75%                        0.606000    0.241000                   0.170000  \n",
       "max                        0.716000    0.541000                   0.547000  "
      ]
     },
     "execution_count": 937,
     "metadata": {},
     "output_type": "execute_result"
    }
   ],
   "source": [
    "filter_df.describe()"
   ]
  },
  {
   "cell_type": "code",
   "execution_count": 938,
   "metadata": {},
   "outputs": [],
   "source": [
    "happiness_X2 = filter_df['Healthy_Life_Expectancy']\n",
    "\n",
    "happiness_Y2 = filter_df['Score']"
   ]
  },
  {
   "cell_type": "code",
   "execution_count": 939,
   "metadata": {},
   "outputs": [
    {
     "data": {
      "text/plain": [
       "count    145.000000\n",
       "mean       0.513434\n",
       "std        0.211462\n",
       "min        0.000000\n",
       "25%        0.341000\n",
       "50%        0.565000\n",
       "75%        0.653000\n",
       "max        0.897000\n",
       "Name: Healthy_Life_Expectancy, dtype: float64"
      ]
     },
     "execution_count": 939,
     "metadata": {},
     "output_type": "execute_result"
    }
   ],
   "source": [
    "happiness_X2.describe()"
   ]
  },
  {
   "cell_type": "code",
   "execution_count": 940,
   "metadata": {},
   "outputs": [
    {
     "name": "stdout",
     "output_type": "stream",
     "text": [
      "0.5875893671591712\n"
     ]
    }
   ],
   "source": [
    "new_r2 = sklearn.metrics.r2_score(happiness_Y2, y_pred, sample_weight=None, multioutput='uniform_average')\n",
    "\n",
    "print(new_r2)"
   ]
  },
  {
   "cell_type": "code",
   "execution_count": 941,
   "metadata": {},
   "outputs": [
    {
     "data": {
      "image/png": "[encoded data removed]",
      "text/plain": [
       "<Figure size 432x288 with 1 Axes>"
      ]
     },
     "metadata": {
      "needs_background": "light"
     },
     "output_type": "display_data"
    }
   ],
   "source": [
    "# Our 2021 data points juxtaposed to the model generated from 2019 data\n",
    "\n",
    "plt.scatter(happiness_X2, happiness_Y2,  color = 'black')\n",
    "plt.plot(happiness_X, y_pred, color = 'red', linewidth = 3)\n",
    "\n",
    "plt.xticks(np.arange(0, 1.4, .2))\n",
    "plt.yticks(np.arange(2,10,1))\n",
    "plt.title('Comparing the 2021 Data with our 2019 Linear Regression Model')\n",
    "plt.xlabel('Healthy Life Expectancy (%)')\n",
    "plt.ylabel('Score')\n",
    "plt.show()"
   ]
  },
  {
   "cell_type": "code",
   "execution_count": 942,
   "metadata": {},
   "outputs": [],
   "source": [
    "# IMPLEMENT POLYNOMIAL REGRESSION\n",
    "\n",
    "from sklearn.preprocessing import PolynomialFeatures\n",
    "\n",
    "\n",
    "# dropped_country_name from WHR_2019\n",
    "sum_vals = dropped_country_name['Healthy_Life_Expectancy'] + dropped_country_name['GDP_Per_Capita'] + dropped_country_name['Healthy_Life_Expectancy'] + dropped_country_name['Social_Support'] + dropped_country_name['Freedom_to_Make_Life_Choices'] + dropped_country_name['Generosity'] + dropped_country_name['Perceptions_of_Corruption']\n",
    "\n",
    "\n",
    "poly_happiness_Y = dropped_country_name['Score']"
   ]
  },
  {
   "cell_type": "code",
   "execution_count": 943,
   "metadata": {},
   "outputs": [
    {
     "data": {
      "text/plain": [
       "0      6.041\n",
       "1      6.202\n",
       "2      6.341\n",
       "3      6.119\n",
       "4      6.093\n",
       "       ...  \n",
       "149    2.491\n",
       "150    2.704\n",
       "151    3.481\n",
       "152    3.199\n",
       "153    1.772\n",
       "Length: 145, dtype: float64"
      ]
     },
     "execution_count": 943,
     "metadata": {},
     "output_type": "execute_result"
    }
   ],
   "source": [
    "sum_vals"
   ]
  },
  {
   "cell_type": "code",
   "execution_count": 976,
   "metadata": {},
   "outputs": [
    {
     "data": {
      "text/plain": [
       "LinearRegression()"
      ]
     },
     "execution_count": 976,
     "metadata": {},
     "output_type": "execute_result"
    }
   ],
   "source": [
    "poly_reg = PolynomialFeatures(degree = 4)\n",
    "X_poly = poly_reg.fit_transform(sum_vals.values.reshape(-1,1))\n",
    "clf.fit(X_poly, poly_happiness_Y.values.reshape(-1,1))"
   ]
  },
  {
   "cell_type": "code",
   "execution_count": 977,
   "metadata": {},
   "outputs": [
    {
     "data": {
      "text/plain": [
       "count    145.000000\n",
       "mean       4.291552\n",
       "std        1.137913\n",
       "min        1.772000\n",
       "25%        3.609000\n",
       "50%        4.436000\n",
       "75%        5.059000\n",
       "max        6.597000\n",
       "dtype: float64"
      ]
     },
     "execution_count": 977,
     "metadata": {},
     "output_type": "execute_result"
    }
   ],
   "source": [
    "sum_vals.describe()\n"
   ]
  },
  {
   "cell_type": "code",
   "execution_count": 978,
   "metadata": {},
   "outputs": [
    {
     "data": {
      "text/plain": [
       "array([[7.17475099],\n",
       "       [7.20410594],\n",
       "       [7.17798086],\n",
       "       [7.19631399],\n",
       "       [7.19059466],\n",
       "       [7.19947526],\n",
       "       [7.19364264],\n",
       "       [7.20404387],\n",
       "       [7.19741828],\n",
       "       [7.09520112],\n",
       "       [7.20311659],\n",
       "       [6.36744427],\n",
       "       [6.74541405],\n",
       "       [7.2008864 ],\n",
       "       [7.12782034],\n",
       "       [7.20331451],\n",
       "       [7.0509929 ],\n",
       "       [6.92520696],\n",
       "       [6.74202429],\n",
       "       [6.28722367],\n",
       "       [6.74766961],\n",
       "       [7.1097139 ],\n",
       "       [5.70258485],\n",
       "       [6.86701593],\n",
       "       [6.06425431],\n",
       "       [5.27975892],\n",
       "       [6.10849835],\n",
       "       [6.72838929],\n",
       "       [6.22748431],\n",
       "       [5.60898986],\n",
       "       [6.33469102],\n",
       "       [6.97834964],\n",
       "       [5.12909626],\n",
       "       [6.47461288],\n",
       "       [6.59215091],\n",
       "       [6.08168553],\n",
       "       [6.19014055],\n",
       "       [6.07900384],\n",
       "       [5.79392681],\n",
       "       [5.68320251],\n",
       "       [6.68678284],\n",
       "       [5.3983715 ],\n",
       "       [5.32326849],\n",
       "       [5.93708475],\n",
       "       [5.57361713],\n",
       "       [6.38179378],\n",
       "       [5.67160879],\n",
       "       [6.32943357],\n",
       "       [6.18613327],\n",
       "       [5.68191297],\n",
       "       [6.08302636],\n",
       "       [6.46568224],\n",
       "       [5.5761333 ],\n",
       "       [5.96112529],\n",
       "       [6.82539834],\n",
       "       [5.29797726],\n",
       "       [5.82818028],\n",
       "       [5.02568163],\n",
       "       [5.53981256],\n",
       "       [5.6600427 ],\n",
       "       [5.46584666],\n",
       "       [6.41166295],\n",
       "       [4.4502046 ],\n",
       "       [5.49892687],\n",
       "       [5.11345069],\n",
       "       [5.52240771],\n",
       "       [4.85071862],\n",
       "       [5.3313733 ],\n",
       "       [5.54729794],\n",
       "       [4.74962774],\n",
       "       [5.69094665],\n",
       "       [5.68965514],\n",
       "       [5.25607583],\n",
       "       [5.51002899],\n",
       "       [5.89312041],\n",
       "       [5.55730243],\n",
       "       [5.38057074],\n",
       "       [5.34183406],\n",
       "       [5.47805846],\n",
       "       [4.35267737],\n",
       "       [5.1877142 ],\n",
       "       [5.54355331],\n",
       "       [4.92764091],\n",
       "       [4.66952059],\n",
       "       [5.2204969 ],\n",
       "       [5.17046143],\n",
       "       [5.42228824],\n",
       "       [5.6051851 ],\n",
       "       [5.52116782],\n",
       "       [4.28542152],\n",
       "       [5.62042493],\n",
       "       [4.39573285],\n",
       "       [4.20549512],\n",
       "       [4.78723855],\n",
       "       [5.24154691],\n",
       "       [4.1273034 ],\n",
       "       [4.37650784],\n",
       "       [4.73846338],\n",
       "       [4.81436417],\n",
       "       [4.77476519],\n",
       "       [5.04738985],\n",
       "       [5.18338579],\n",
       "       [4.81436417],\n",
       "       [4.64656052],\n",
       "       [4.44178333],\n",
       "       [4.6668527 ],\n",
       "       [4.13698653],\n",
       "       [4.27674597],\n",
       "       [4.90255923],\n",
       "       [5.13014456],\n",
       "       [4.24844843],\n",
       "       [4.62570076],\n",
       "       [4.33632091],\n",
       "       [4.56927106],\n",
       "       [4.35152142],\n",
       "       [4.30404949],\n",
       "       [4.78175849],\n",
       "       [4.7362501 ],\n",
       "       [4.65108336],\n",
       "       [4.26279764],\n",
       "       [4.11298473],\n",
       "       [5.62806536],\n",
       "       [5.18554873],\n",
       "       [3.96239945],\n",
       "       [4.98137717],\n",
       "       [4.38546499],\n",
       "       [4.21943277],\n",
       "       [4.34580654],\n",
       "       [4.63508823],\n",
       "       [4.44576501],\n",
       "       [4.12368552],\n",
       "       [4.55076219],\n",
       "       [4.2297427 ],\n",
       "       [4.23517211],\n",
       "       [4.26799855],\n",
       "       [4.23994142],\n",
       "       [3.86007383],\n",
       "       [4.34354964],\n",
       "       [4.21395671],\n",
       "       [4.78959808],\n",
       "       [4.22212484],\n",
       "       [4.27981339],\n",
       "       [4.5518301 ],\n",
       "       [4.42485977],\n",
       "       [3.80364643]])"
      ]
     },
     "execution_count": 978,
     "metadata": {},
     "output_type": "execute_result"
    }
   ],
   "source": [
    "poly_y_pred = clf.predict(X_poly)\n",
    "\n",
    "poly_y_pred"
   ]
  },
  {
   "cell_type": "code",
   "execution_count": 993,
   "metadata": {},
   "outputs": [
    {
     "data": {
      "image/png": "[encoded data removed]",
      "text/plain": [
       "<Figure size 432x288 with 1 Axes>"
      ]
     },
     "metadata": {
      "needs_background": "light"
     },
     "output_type": "display_data"
    }
   ],
   "source": [
    "X_grid = np.arange(min(sum_vals), max(sum_vals), 0.1)\n",
    "X_grid = X_grid.reshape((len(X_grid), 1))\n",
    "plt.scatter(sum_vals, poly_happiness_Y, color = 'red')\n",
    "plt.scatter(sum_vals, poly_y_pred, color = 'green')\n",
    "plt.plot(X_grid, clf.predict(poly_reg.fit_transform(X_grid)), color = 'black')\n",
    "plt.title('2019 Polynomial Regression on the 2019 Data')\n",
    "plt.xlabel('Features')\n",
    "plt.ylabel('Score')\n",
    "plt.show()"
   ]
  },
  {
   "cell_type": "code",
   "execution_count": 980,
   "metadata": {},
   "outputs": [
    {
     "name": "stdout",
     "output_type": "stream",
     "text": [
      "0.8058999968317295\n"
     ]
    }
   ],
   "source": [
    "sum_vals_r2 = sklearn.metrics.r2_score(poly_happiness_Y, poly_y_pred, sample_weight=None, multioutput='uniform_average')\n",
    "\n",
    "print(sum_vals_r2)"
   ]
  },
  {
   "cell_type": "code",
   "execution_count": 981,
   "metadata": {},
   "outputs": [
    {
     "data": {
      "text/html": [
       "<div>\n",
       "<style scoped>\n",
       "    .dataframe tbody tr th:only-of-type {\n",
       "        vertical-align: middle;\n",
       "    }\n",
       "\n",
       "    .dataframe tbody tr th {\n",
       "        vertical-align: top;\n",
       "    }\n",
       "\n",
       "    .dataframe thead th {\n",
       "        text-align: right;\n",
       "    }\n",
       "</style>\n",
       "<table border=\"1\" class=\"dataframe\">\n",
       "  <thead>\n",
       "    <tr style=\"text-align: right;\">\n",
       "      <th></th>\n",
       "      <th>Score</th>\n",
       "      <th>GDP_Per_Capita</th>\n",
       "      <th>Social_Support</th>\n",
       "      <th>Healthy_Life_Expectancy</th>\n",
       "      <th>Freedom_to_Make_Life_Choices</th>\n",
       "      <th>Generosity</th>\n",
       "      <th>Perceptions_of_Corruption</th>\n",
       "    </tr>\n",
       "  </thead>\n",
       "  <tbody>\n",
       "    <tr>\n",
       "      <th>count</th>\n",
       "      <td>145.000000</td>\n",
       "      <td>145.000000</td>\n",
       "      <td>145.000000</td>\n",
       "      <td>145.000000</td>\n",
       "      <td>145.000000</td>\n",
       "      <td>145.000000</td>\n",
       "      <td>145.000000</td>\n",
       "    </tr>\n",
       "    <tr>\n",
       "      <th>mean</th>\n",
       "      <td>5.528262</td>\n",
       "      <td>0.966207</td>\n",
       "      <td>0.790069</td>\n",
       "      <td>0.513434</td>\n",
       "      <td>0.498841</td>\n",
       "      <td>0.177621</td>\n",
       "      <td>0.133669</td>\n",
       "    </tr>\n",
       "    <tr>\n",
       "      <th>std</th>\n",
       "      <td>1.084829</td>\n",
       "      <td>0.403933</td>\n",
       "      <td>0.261266</td>\n",
       "      <td>0.211462</td>\n",
       "      <td>0.139439</td>\n",
       "      <td>0.099443</td>\n",
       "      <td>0.114396</td>\n",
       "    </tr>\n",
       "    <tr>\n",
       "      <th>min</th>\n",
       "      <td>2.523000</td>\n",
       "      <td>0.000000</td>\n",
       "      <td>0.000000</td>\n",
       "      <td>0.000000</td>\n",
       "      <td>0.000000</td>\n",
       "      <td>0.000000</td>\n",
       "      <td>0.000000</td>\n",
       "    </tr>\n",
       "    <tr>\n",
       "      <th>25%</th>\n",
       "      <td>4.834000</td>\n",
       "      <td>0.665000</td>\n",
       "      <td>0.638000</td>\n",
       "      <td>0.341000</td>\n",
       "      <td>0.409000</td>\n",
       "      <td>0.103000</td>\n",
       "      <td>0.059000</td>\n",
       "    </tr>\n",
       "    <tr>\n",
       "      <th>50%</th>\n",
       "      <td>5.534000</td>\n",
       "      <td>1.008000</td>\n",
       "      <td>0.831000</td>\n",
       "      <td>0.565000</td>\n",
       "      <td>0.516000</td>\n",
       "      <td>0.163000</td>\n",
       "      <td>0.097000</td>\n",
       "    </tr>\n",
       "    <tr>\n",
       "      <th>75%</th>\n",
       "      <td>6.255000</td>\n",
       "      <td>1.304000</td>\n",
       "      <td>0.996000</td>\n",
       "      <td>0.653000</td>\n",
       "      <td>0.606000</td>\n",
       "      <td>0.241000</td>\n",
       "      <td>0.170000</td>\n",
       "    </tr>\n",
       "    <tr>\n",
       "      <th>max</th>\n",
       "      <td>7.842000</td>\n",
       "      <td>1.751000</td>\n",
       "      <td>1.172000</td>\n",
       "      <td>0.897000</td>\n",
       "      <td>0.716000</td>\n",
       "      <td>0.541000</td>\n",
       "      <td>0.547000</td>\n",
       "    </tr>\n",
       "  </tbody>\n",
       "</table>\n",
       "</div>"
      ],
      "text/plain": [
       "            Score  GDP_Per_Capita  Social_Support  Healthy_Life_Expectancy  \\\n",
       "count  145.000000      145.000000      145.000000               145.000000   \n",
       "mean     5.528262        0.966207        0.790069                 0.513434   \n",
       "std      1.084829        0.403933        0.261266                 0.211462   \n",
       "min      2.523000        0.000000        0.000000                 0.000000   \n",
       "25%      4.834000        0.665000        0.638000                 0.341000   \n",
       "50%      5.534000        1.008000        0.831000                 0.565000   \n",
       "75%      6.255000        1.304000        0.996000                 0.653000   \n",
       "max      7.842000        1.751000        1.172000                 0.897000   \n",
       "\n",
       "       Freedom_to_Make_Life_Choices  Generosity  Perceptions_of_Corruption  \n",
       "count                    145.000000  145.000000                 145.000000  \n",
       "mean                       0.498841    0.177621                   0.133669  \n",
       "std                        0.139439    0.099443                   0.114396  \n",
       "min                        0.000000    0.000000                   0.000000  \n",
       "25%                        0.409000    0.103000                   0.059000  \n",
       "50%                        0.516000    0.163000                   0.097000  \n",
       "75%                        0.606000    0.241000                   0.170000  \n",
       "max                        0.716000    0.541000                   0.547000  "
      ]
     },
     "execution_count": 981,
     "metadata": {},
     "output_type": "execute_result"
    }
   ],
   "source": [
    "filter_df.describe()"
   ]
  },
  {
   "cell_type": "code",
   "execution_count": 982,
   "metadata": {},
   "outputs": [
    {
     "data": {
      "text/html": [
       "<div>\n",
       "<style scoped>\n",
       "    .dataframe tbody tr th:only-of-type {\n",
       "        vertical-align: middle;\n",
       "    }\n",
       "\n",
       "    .dataframe tbody tr th {\n",
       "        vertical-align: top;\n",
       "    }\n",
       "\n",
       "    .dataframe thead th {\n",
       "        text-align: right;\n",
       "    }\n",
       "</style>\n",
       "<table border=\"1\" class=\"dataframe\">\n",
       "  <thead>\n",
       "    <tr style=\"text-align: right;\">\n",
       "      <th></th>\n",
       "      <th>Score</th>\n",
       "      <th>GDP_Per_Capita</th>\n",
       "      <th>Social_Support</th>\n",
       "      <th>Healthy_Life_Expectancy</th>\n",
       "      <th>Freedom_to_Make_Life_Choices</th>\n",
       "      <th>Generosity</th>\n",
       "      <th>Perceptions_of_Corruption</th>\n",
       "    </tr>\n",
       "  </thead>\n",
       "  <tbody>\n",
       "    <tr>\n",
       "      <th>count</th>\n",
       "      <td>145.000000</td>\n",
       "      <td>145.000000</td>\n",
       "      <td>145.000000</td>\n",
       "      <td>145.000000</td>\n",
       "      <td>145.000000</td>\n",
       "      <td>145.000000</td>\n",
       "      <td>145.000000</td>\n",
       "    </tr>\n",
       "    <tr>\n",
       "      <th>mean</th>\n",
       "      <td>5.446766</td>\n",
       "      <td>0.912834</td>\n",
       "      <td>1.225717</td>\n",
       "      <td>0.733841</td>\n",
       "      <td>0.396248</td>\n",
       "      <td>0.180324</td>\n",
       "      <td>0.108745</td>\n",
       "    </tr>\n",
       "    <tr>\n",
       "      <th>std</th>\n",
       "      <td>1.092132</td>\n",
       "      <td>0.377801</td>\n",
       "      <td>0.274640</td>\n",
       "      <td>0.232000</td>\n",
       "      <td>0.138809</td>\n",
       "      <td>0.096139</td>\n",
       "      <td>0.095007</td>\n",
       "    </tr>\n",
       "    <tr>\n",
       "      <th>min</th>\n",
       "      <td>3.203000</td>\n",
       "      <td>0.046000</td>\n",
       "      <td>0.437000</td>\n",
       "      <td>0.000000</td>\n",
       "      <td>0.000000</td>\n",
       "      <td>0.000000</td>\n",
       "      <td>0.000000</td>\n",
       "    </tr>\n",
       "    <tr>\n",
       "      <th>25%</th>\n",
       "      <td>4.559000</td>\n",
       "      <td>0.642000</td>\n",
       "      <td>1.058000</td>\n",
       "      <td>0.555000</td>\n",
       "      <td>0.311000</td>\n",
       "      <td>0.107000</td>\n",
       "      <td>0.047000</td>\n",
       "    </tr>\n",
       "    <tr>\n",
       "      <th>50%</th>\n",
       "      <td>5.386000</td>\n",
       "      <td>0.960000</td>\n",
       "      <td>1.274000</td>\n",
       "      <td>0.795000</td>\n",
       "      <td>0.417000</td>\n",
       "      <td>0.175000</td>\n",
       "      <td>0.082000</td>\n",
       "    </tr>\n",
       "    <tr>\n",
       "      <th>75%</th>\n",
       "      <td>6.182000</td>\n",
       "      <td>1.221000</td>\n",
       "      <td>1.455000</td>\n",
       "      <td>0.881000</td>\n",
       "      <td>0.508000</td>\n",
       "      <td>0.247000</td>\n",
       "      <td>0.135000</td>\n",
       "    </tr>\n",
       "    <tr>\n",
       "      <th>max</th>\n",
       "      <td>7.769000</td>\n",
       "      <td>1.609000</td>\n",
       "      <td>1.624000</td>\n",
       "      <td>1.141000</td>\n",
       "      <td>0.631000</td>\n",
       "      <td>0.566000</td>\n",
       "      <td>0.453000</td>\n",
       "    </tr>\n",
       "  </tbody>\n",
       "</table>\n",
       "</div>"
      ],
      "text/plain": [
       "            Score  GDP_Per_Capita  Social_Support  Healthy_Life_Expectancy  \\\n",
       "count  145.000000      145.000000      145.000000               145.000000   \n",
       "mean     5.446766        0.912834        1.225717                 0.733841   \n",
       "std      1.092132        0.377801        0.274640                 0.232000   \n",
       "min      3.203000        0.046000        0.437000                 0.000000   \n",
       "25%      4.559000        0.642000        1.058000                 0.555000   \n",
       "50%      5.386000        0.960000        1.274000                 0.795000   \n",
       "75%      6.182000        1.221000        1.455000                 0.881000   \n",
       "max      7.769000        1.609000        1.624000                 1.141000   \n",
       "\n",
       "       Freedom_to_Make_Life_Choices  Generosity  Perceptions_of_Corruption  \n",
       "count                    145.000000  145.000000                 145.000000  \n",
       "mean                       0.396248    0.180324                   0.108745  \n",
       "std                        0.138809    0.096139                   0.095007  \n",
       "min                        0.000000    0.000000                   0.000000  \n",
       "25%                        0.311000    0.107000                   0.047000  \n",
       "50%                        0.417000    0.175000                   0.082000  \n",
       "75%                        0.508000    0.247000                   0.135000  \n",
       "max                        0.631000    0.566000                   0.453000  "
      ]
     },
     "execution_count": 982,
     "metadata": {},
     "output_type": "execute_result"
    }
   ],
   "source": [
    "dropped_country_name.describe()"
   ]
  },
  {
   "cell_type": "code",
   "execution_count": 983,
   "metadata": {},
   "outputs": [],
   "source": [
    "# Creating sum_vals but for 2021 data to see how model predicts 2021 happiness\n",
    "\n",
    "sum_vals_2021 = filter_df['GDP_Per_Capita'] + filter_df['Healthy_Life_Expectancy'] + filter_df['Social_Support'] + filter_df['Freedom_to_Make_Life_Choices'] + filter_df['Generosity'] + filter_df['Perceptions_of_Corruption']\n",
    "X_poly_2021 = poly_reg.fit_transform(sum_vals_2021.values.reshape(-1,1))\n",
    "\n",
    "Y_vals_2021 = filter_df['Score']"
   ]
  },
  {
   "cell_type": "code",
   "execution_count": 984,
   "metadata": {},
   "outputs": [
    {
     "data": {
      "text/plain": [
       "count    145.000000\n",
       "mean       5.528262\n",
       "std        1.084829\n",
       "min        2.523000\n",
       "25%        4.834000\n",
       "50%        5.534000\n",
       "75%        6.255000\n",
       "max        7.842000\n",
       "Name: Score, dtype: float64"
      ]
     },
     "execution_count": 984,
     "metadata": {},
     "output_type": "execute_result"
    }
   ],
   "source": [
    "Y_vals_2021.describe()"
   ]
  },
  {
   "cell_type": "code",
   "execution_count": 985,
   "metadata": {},
   "outputs": [
    {
     "data": {
      "text/plain": [
       "count    145.000000\n",
       "mean       3.079841\n",
       "std        0.937056\n",
       "min        0.628000\n",
       "25%        2.414000\n",
       "50%        3.156000\n",
       "75%        3.683000\n",
       "max        4.998000\n",
       "dtype: float64"
      ]
     },
     "execution_count": 985,
     "metadata": {},
     "output_type": "execute_result"
    }
   ],
   "source": [
    "sum_vals_2021.describe()"
   ]
  },
  {
   "cell_type": "code",
   "execution_count": 986,
   "metadata": {},
   "outputs": [
    {
     "data": {
      "text/plain": [
       "array([[1.00000000e+00, 4.58900000e+00, 2.10589210e+01, 9.66393885e+01,\n",
       "        4.43478154e+02],\n",
       "       [1.00000000e+00, 4.75200000e+00, 2.25815040e+01, 1.07307307e+02,\n",
       "        5.09924323e+02],\n",
       "       [1.00000000e+00, 4.73100000e+00, 2.23823610e+01, 1.05890950e+02,\n",
       "        5.00970084e+02],\n",
       "       [1.00000000e+00, 4.58700000e+00, 2.10405690e+01, 9.65130900e+01,\n",
       "        4.42705544e+02],\n",
       "       [1.00000000e+00, 4.66600000e+00, 2.17715560e+01, 1.01586080e+02,\n",
       "        4.74000651e+02],\n",
       "       [1.00000000e+00, 4.81200000e+00, 2.31553440e+01, 1.11423515e+02,\n",
       "        5.36169956e+02],\n",
       "       [1.00000000e+00, 4.68000000e+00, 2.19024000e+01, 1.02503232e+02,\n",
       "        4.79715126e+02],\n",
       "       [1.00000000e+00, 4.67200000e+00, 2.18275840e+01, 1.01978472e+02,\n",
       "        4.76443423e+02],\n",
       "       [1.00000000e+00, 4.66500000e+00, 2.17622250e+01, 1.01520780e+02,\n",
       "        4.73594437e+02],\n",
       "       [1.00000000e+00, 4.48300000e+00, 2.00972890e+01, 9.00961466e+01,\n",
       "        4.03901025e+02],\n",
       "       [1.00000000e+00, 4.58500000e+00, 2.10222250e+01, 9.63869016e+01,\n",
       "        4.41933944e+02],\n",
       "       [1.00000000e+00, 4.07400000e+00, 1.65974760e+01, 6.76181172e+01,\n",
       "        2.75476210e+02],\n",
       "       [1.00000000e+00, 4.33100000e+00, 1.87575610e+01, 8.12389967e+01,\n",
       "        3.51846095e+02],\n",
       "       [1.00000000e+00, 4.51800000e+00, 2.04123240e+01, 9.22228798e+01,\n",
       "        4.16662971e+02],\n",
       "       [1.00000000e+00, 4.70000000e+00, 2.20900000e+01, 1.03823000e+02,\n",
       "        4.87968100e+02],\n",
       "       [1.00000000e+00, 3.68300000e+00, 1.35644890e+01, 4.99580130e+01,\n",
       "        1.83995362e+02],\n",
       "       [1.00000000e+00, 4.46800000e+00, 1.99630240e+01, 8.91947912e+01,\n",
       "        3.98522327e+02],\n",
       "       [1.00000000e+00, 3.84100000e+00, 1.47532810e+01, 5.66673523e+01,\n",
       "        2.17659300e+02],\n",
       "       [1.00000000e+00, 4.14400000e+00, 1.71727360e+01, 7.11638180e+01,\n",
       "        2.94902862e+02],\n",
       "       [1.00000000e+00, 3.97200000e+00, 1.57767840e+01, 6.26653860e+01,\n",
       "        2.48906913e+02],\n",
       "       [1.00000000e+00, 4.16900000e+00, 1.73805610e+01, 7.24595588e+01,\n",
       "        3.02083901e+02],\n",
       "       [1.00000000e+00, 4.01600000e+00, 1.61282560e+01, 6.47710761e+01,\n",
       "        2.60120642e+02],\n",
       "       [1.00000000e+00, 4.33500000e+00, 1.87922250e+01, 8.14642954e+01,\n",
       "        3.53147720e+02],\n",
       "       [1.00000000e+00, 4.13800000e+00, 1.71230440e+01, 7.08551561e+01,\n",
       "        2.93198636e+02],\n",
       "       [1.00000000e+00, 3.82600000e+00, 1.46382760e+01, 5.60060440e+01,\n",
       "        2.14279124e+02],\n",
       "       [1.00000000e+00, 3.97900000e+00, 1.58324410e+01, 6.29972827e+01,\n",
       "        2.50666188e+02],\n",
       "       [1.00000000e+00, 3.69000000e+00, 1.36161000e+01, 5.02434090e+01,\n",
       "        1.85398179e+02],\n",
       "       [1.00000000e+00, 4.07200000e+00, 1.65811840e+01, 6.75185812e+01,\n",
       "        2.74935663e+02],\n",
       "       [1.00000000e+00, 3.06000000e+00, 9.36360000e+00, 2.86526160e+01,\n",
       "        8.76770050e+01],\n",
       "       [1.00000000e+00, 3.83100000e+00, 1.46765610e+01, 5.62259052e+01,\n",
       "        2.15401443e+02],\n",
       "       [1.00000000e+00, 4.99800000e+00, 2.49800040e+01, 1.24850060e+02,\n",
       "        6.24000600e+02],\n",
       "       [1.00000000e+00, 3.19000000e+00, 1.01761000e+01, 3.24617590e+01,\n",
       "        1.03553011e+02],\n",
       "       [1.00000000e+00, 3.61600000e+00, 1.30754560e+01, 4.72808489e+01,\n",
       "        1.70967550e+02],\n",
       "       [1.00000000e+00, 3.31600000e+00, 1.09958560e+01, 3.64622585e+01,\n",
       "        1.20908849e+02],\n",
       "       [1.00000000e+00, 3.35600000e+00, 1.12627360e+01, 3.77977420e+01,\n",
       "        1.26849222e+02],\n",
       "       [1.00000000e+00, 3.17400000e+00, 1.00742760e+01, 3.19757520e+01,\n",
       "        1.01491037e+02],\n",
       "       [1.00000000e+00, 3.63200000e+00, 1.31914240e+01, 4.79112520e+01,\n",
       "        1.74013667e+02],\n",
       "       [1.00000000e+00, 3.64600000e+00, 1.32933160e+01, 4.84674301e+01,\n",
       "        1.76712250e+02],\n",
       "       [1.00000000e+00, 4.08600000e+00, 1.66953960e+01, 6.82173881e+01,\n",
       "        2.78736248e+02],\n",
       "       [1.00000000e+00, 3.66900000e+00, 1.34615610e+01, 4.93904673e+01,\n",
       "        1.81213625e+02],\n",
       "       [1.00000000e+00, 3.70200000e+00, 1.37048040e+01, 5.07351844e+01,\n",
       "        1.87821653e+02],\n",
       "       [1.00000000e+00, 3.49100000e+00, 1.21870810e+01, 4.25450998e+01,\n",
       "        1.48524943e+02],\n",
       "       [1.00000000e+00, 3.72700000e+00, 1.38905290e+01, 5.17700016e+01,\n",
       "        1.92946796e+02],\n",
       "       [1.00000000e+00, 3.70800000e+00, 1.37492640e+01, 5.09822709e+01,\n",
       "        1.89042261e+02],\n",
       "       [1.00000000e+00, 3.31200000e+00, 1.09693440e+01, 3.63304673e+01,\n",
       "        1.20326508e+02],\n",
       "       [1.00000000e+00, 3.73900000e+00, 1.39801210e+01, 5.22716724e+01,\n",
       "        1.95443783e+02],\n",
       "       [1.00000000e+00, 3.39600000e+00, 1.15328160e+01, 3.91654431e+01,\n",
       "        1.33005845e+02],\n",
       "       [1.00000000e+00, 2.97600000e+00, 8.85657600e+00, 2.63571702e+01,\n",
       "        7.84389384e+01],\n",
       "       [1.00000000e+00, 3.58700000e+00, 1.28665690e+01, 4.61523830e+01,\n",
       "        1.65548598e+02],\n",
       "       [1.00000000e+00, 3.49500000e+00, 1.22150250e+01, 4.26915124e+01,\n",
       "        1.49206836e+02],\n",
       "       [1.00000000e+00, 3.21900000e+00, 1.03619610e+01, 3.33551525e+01,\n",
       "        1.07370236e+02],\n",
       "       [1.00000000e+00, 3.56000000e+00, 1.26736000e+01, 4.51180160e+01,\n",
       "        1.60620137e+02],\n",
       "       [1.00000000e+00, 3.67400000e+00, 1.34982760e+01, 4.95926660e+01,\n",
       "        1.82203455e+02],\n",
       "       [1.00000000e+00, 3.13100000e+00, 9.80316100e+00, 3.06936971e+01,\n",
       "        9.61019656e+01],\n",
       "       [1.00000000e+00, 3.89200000e+00, 1.51476640e+01, 5.89547083e+01,\n",
       "        2.29451725e+02],\n",
       "       [1.00000000e+00, 3.46800000e+00, 1.20270240e+01, 4.17097192e+01,\n",
       "        1.44649306e+02],\n",
       "       [1.00000000e+00, 3.70500000e+00, 1.37270250e+01, 5.08586276e+01,\n",
       "        1.88431215e+02],\n",
       "       [1.00000000e+00, 2.98500000e+00, 8.91022500e+00, 2.65970216e+01,\n",
       "        7.93921096e+01],\n",
       "       [1.00000000e+00, 3.55700000e+00, 1.26522490e+01, 4.50040497e+01,\n",
       "        1.60079405e+02],\n",
       "       [1.00000000e+00, 3.00900000e+00, 9.05408100e+00, 2.72437297e+01,\n",
       "        8.19763828e+01],\n",
       "       [1.00000000e+00, 3.58400000e+00, 1.28450560e+01, 4.60366807e+01,\n",
       "        1.64995464e+02],\n",
       "       [1.00000000e+00, 3.09600000e+00, 9.58521600e+00, 2.96758287e+01,\n",
       "        9.18763658e+01],\n",
       "       [1.00000000e+00, 3.23000000e+00, 1.04329000e+01, 3.36982670e+01,\n",
       "        1.08845402e+02],\n",
       "       [1.00000000e+00, 3.10100000e+00, 9.61620100e+00, 2.98198393e+01,\n",
       "        9.24713217e+01],\n",
       "       [1.00000000e+00, 3.11000000e+00, 9.67210000e+00, 3.00802310e+01,\n",
       "        9.35495184e+01],\n",
       "       [1.00000000e+00, 3.09600000e+00, 9.58521600e+00, 2.96758287e+01,\n",
       "        9.18763658e+01],\n",
       "       [1.00000000e+00, 3.16100000e+00, 9.99192100e+00, 3.15844623e+01,\n",
       "        9.98384853e+01],\n",
       "       [1.00000000e+00, 2.91200000e+00, 8.47974400e+00, 2.46930145e+01,\n",
       "        7.19060583e+01],\n",
       "       [1.00000000e+00, 3.18600000e+00, 1.01505960e+01, 3.23397989e+01,\n",
       "        1.03034599e+02],\n",
       "       [1.00000000e+00, 3.34700000e+00, 1.12024090e+01, 3.74944629e+01,\n",
       "        1.25493967e+02],\n",
       "       [1.00000000e+00, 3.32700000e+00, 1.10689290e+01, 3.68263268e+01,\n",
       "        1.22521189e+02],\n",
       "       [1.00000000e+00, 3.36600000e+00, 1.13299560e+01, 3.81366319e+01,\n",
       "        1.28367903e+02],\n",
       "       [1.00000000e+00, 3.28600000e+00, 1.07977960e+01, 3.54815577e+01,\n",
       "        1.16592398e+02],\n",
       "       [1.00000000e+00, 3.32800000e+00, 1.10755840e+01, 3.68595436e+01,\n",
       "        1.22668561e+02],\n",
       "       [1.00000000e+00, 2.84800000e+00, 8.11110400e+00, 2.31004242e+01,\n",
       "        6.57900081e+01],\n",
       "       [1.00000000e+00, 3.20000000e+00, 1.02400000e+01, 3.27680000e+01,\n",
       "        1.04857600e+02],\n",
       "       [1.00000000e+00, 3.07900000e+00, 9.48024100e+00, 2.91896620e+01,\n",
       "        8.98749694e+01],\n",
       "       [1.00000000e+00, 3.60100000e+00, 1.29672010e+01, 4.66948908e+01,\n",
       "        1.68148302e+02],\n",
       "       [1.00000000e+00, 3.35800000e+00, 1.12761640e+01, 3.78653587e+01,\n",
       "        1.27151875e+02],\n",
       "       [1.00000000e+00, 1.86600000e+00, 3.48195600e+00, 6.49732990e+00,\n",
       "        1.21240176e+01],\n",
       "       [1.00000000e+00, 3.35700000e+00, 1.12694490e+01, 3.78315403e+01,\n",
       "        1.27000481e+02],\n",
       "       [1.00000000e+00, 1.83700000e+00, 3.37456900e+00, 6.19908325e+00,\n",
       "        1.13877159e+01],\n",
       "       [1.00000000e+00, 3.15600000e+00, 9.96033600e+00, 3.14348204e+01,\n",
       "        9.92082932e+01],\n",
       "       [1.00000000e+00, 2.62700000e+00, 6.90112900e+00, 1.81292659e+01,\n",
       "        4.76255815e+01],\n",
       "       [1.00000000e+00, 3.44300000e+00, 1.18542490e+01, 4.08141793e+01,\n",
       "        1.40523219e+02],\n",
       "       [1.00000000e+00, 3.25200000e+00, 1.05755040e+01, 3.43915390e+01,\n",
       "        1.11841285e+02],\n",
       "       [1.00000000e+00, 1.94600000e+00, 3.78691600e+00, 7.36933854e+00,\n",
       "        1.43407328e+01],\n",
       "       [1.00000000e+00, 2.06000000e+00, 4.24360000e+00, 8.74181600e+00,\n",
       "        1.80081410e+01],\n",
       "       [1.00000000e+00, 2.86600000e+00, 8.21395600e+00, 2.35411979e+01,\n",
       "        6.74690732e+01],\n",
       "       [1.00000000e+00, 3.05900000e+00, 9.35748100e+00, 2.86245344e+01,\n",
       "        8.75624507e+01],\n",
       "       [1.00000000e+00, 2.40500000e+00, 5.78402500e+00, 1.39105801e+01,\n",
       "        3.34549452e+01],\n",
       "       [1.00000000e+00, 1.60400000e+00, 2.57281600e+00, 4.12679686e+00,\n",
       "        6.61938217e+00],\n",
       "       [1.00000000e+00, 3.65800000e+00, 1.33809640e+01, 4.89475663e+01,\n",
       "        1.79050198e+02],\n",
       "       [1.00000000e+00, 2.06000000e+00, 4.24360000e+00, 8.74181600e+00,\n",
       "        1.80081410e+01],\n",
       "       [1.00000000e+00, 1.56200000e+00, 2.43984400e+00, 3.81103633e+00,\n",
       "        5.95283874e+00],\n",
       "       [1.00000000e+00, 2.82600000e+00, 7.98627600e+00, 2.25692160e+01,\n",
       "        6.37806043e+01],\n",
       "       [1.00000000e+00, 2.59700000e+00, 6.74440900e+00, 1.75152302e+01,\n",
       "        4.54870528e+01],\n",
       "       [1.00000000e+00, 1.77000000e+00, 3.13290000e+00, 5.54523300e+00,\n",
       "        9.81506241e+00],\n",
       "       [1.00000000e+00, 2.76900000e+00, 7.66736100e+00, 2.12309226e+01,\n",
       "        5.87884247e+01],\n",
       "       [1.00000000e+00, 3.09600000e+00, 9.58521600e+00, 2.96758287e+01,\n",
       "        9.18763658e+01],\n",
       "       [1.00000000e+00, 2.14900000e+00, 4.61820100e+00, 9.92451395e+00,\n",
       "        2.13277805e+01],\n",
       "       [1.00000000e+00, 2.16800000e+00, 4.70022400e+00, 1.01900856e+01,\n",
       "        2.20921057e+01],\n",
       "       [1.00000000e+00, 2.75700000e+00, 7.60104900e+00, 2.09560921e+01,\n",
       "        5.77759459e+01],\n",
       "       [1.00000000e+00, 2.69900000e+00, 7.28460100e+00, 1.96611381e+01,\n",
       "        5.30654117e+01],\n",
       "       [1.00000000e+00, 2.64600000e+00, 7.00131600e+00, 1.85254821e+01,\n",
       "        4.90184257e+01],\n",
       "       [1.00000000e+00, 3.06200000e+00, 9.37584400e+00, 2.87088343e+01,\n",
       "        8.79064507e+01],\n",
       "       [1.00000000e+00, 2.42500000e+00, 5.88062500e+00, 1.42605156e+01,\n",
       "        3.45817504e+01],\n",
       "       [1.00000000e+00, 2.65200000e+00, 7.03310400e+00, 1.86517918e+01,\n",
       "        4.94645519e+01],\n",
       "       [1.00000000e+00, 1.70000000e+00, 2.89000000e+00, 4.91300000e+00,\n",
       "        8.35210000e+00],\n",
       "       [1.00000000e+00, 2.68200000e+00, 7.19312400e+00, 1.92919586e+01,\n",
       "        5.17410329e+01],\n",
       "       [1.00000000e+00, 2.01200000e+00, 4.04814400e+00, 8.14486573e+00,\n",
       "        1.63874698e+01],\n",
       "       [1.00000000e+00, 2.02300000e+00, 4.09252900e+00, 8.27918617e+00,\n",
       "        1.67487936e+01],\n",
       "       [1.00000000e+00, 1.70700000e+00, 2.91384900e+00, 4.97394024e+00,\n",
       "        8.49051599e+00],\n",
       "       [1.00000000e+00, 2.89700000e+00, 8.39260900e+00, 2.43133883e+01,\n",
       "        7.04358858e+01],\n",
       "       [1.00000000e+00, 2.04100000e+00, 4.16568100e+00, 8.50215492e+00,\n",
       "        1.73528982e+01],\n",
       "       [1.00000000e+00, 1.76900000e+00, 3.12936100e+00, 5.53583961e+00,\n",
       "        9.79290027e+00],\n",
       "       [1.00000000e+00, 2.42700000e+00, 5.89032900e+00, 1.42958285e+01,\n",
       "        3.46959757e+01],\n",
       "       [1.00000000e+00, 2.45900000e+00, 6.04668100e+00, 1.48687886e+01,\n",
       "        3.65623511e+01],\n",
       "       [1.00000000e+00, 2.84900000e+00, 8.11680100e+00, 2.31247660e+01,\n",
       "        6.58824585e+01],\n",
       "       [1.00000000e+00, 2.50600000e+00, 6.28003600e+00, 1.57377702e+01,\n",
       "        3.94388522e+01],\n",
       "       [1.00000000e+00, 2.38600000e+00, 5.69299600e+00, 1.35834885e+01,\n",
       "        3.24102035e+01],\n",
       "       [1.00000000e+00, 3.01900000e+00, 9.11436100e+00, 2.75162559e+01,\n",
       "        8.30715764e+01],\n",
       "       [1.00000000e+00, 2.84200000e+00, 8.07696400e+00, 2.29547317e+01,\n",
       "        6.52373475e+01],\n",
       "       [1.00000000e+00, 1.14700000e+00, 1.31560900e+00, 1.50900352e+00,\n",
       "        1.73082704e+00],\n",
       "       [1.00000000e+00, 3.25000000e+00, 1.05625000e+01, 3.43281250e+01,\n",
       "        1.11566406e+02],\n",
       "       [1.00000000e+00, 2.15300000e+00, 4.63540900e+00, 9.98003558e+00,\n",
       "        2.14870166e+01],\n",
       "       [1.00000000e+00, 1.67800000e+00, 2.81568400e+00, 4.72471775e+00,\n",
       "        7.92807639e+00],\n",
       "       [1.00000000e+00, 2.63400000e+00, 6.93795600e+00, 1.82745761e+01,\n",
       "        4.81352335e+01],\n",
       "       [1.00000000e+00, 2.18600000e+00, 4.77859600e+00, 1.04460109e+01,\n",
       "        2.28349797e+01],\n",
       "       [1.00000000e+00, 2.15800000e+00, 4.65696400e+00, 1.00497283e+01,\n",
       "        2.16873137e+01],\n",
       "       [1.00000000e+00, 1.58900000e+00, 2.52492100e+00, 4.01209947e+00,\n",
       "        6.37522606e+00],\n",
       "       [1.00000000e+00, 1.30100000e+00, 1.69260100e+00, 2.20207390e+00,\n",
       "        2.86489815e+00],\n",
       "       [1.00000000e+00, 2.09900000e+00, 4.40580100e+00, 9.24777630e+00,\n",
       "        1.94110825e+01],\n",
       "       [1.00000000e+00, 1.45400000e+00, 2.11411600e+00, 3.07392466e+00,\n",
       "        4.46948646e+00],\n",
       "       [1.00000000e+00, 2.41400000e+00, 5.82739600e+00, 1.40673339e+01,\n",
       "        3.39585441e+01],\n",
       "       [1.00000000e+00, 8.99000000e-01, 8.08201000e-01, 7.26572699e-01,\n",
       "        6.53188856e-01],\n",
       "       [1.00000000e+00, 1.88100000e+00, 3.53816100e+00, 6.65528084e+00,\n",
       "        1.25185833e+01],\n",
       "       [1.00000000e+00, 2.36000000e+00, 5.56960000e+00, 1.31442560e+01,\n",
       "        3.10204442e+01],\n",
       "       [1.00000000e+00, 1.55300000e+00, 2.41180900e+00, 3.74553938e+00,\n",
       "        5.81682265e+00],\n",
       "       [1.00000000e+00, 1.41000000e+00, 1.98810000e+00, 2.80322100e+00,\n",
       "        3.95254161e+00],\n",
       "       [1.00000000e+00, 1.71200000e+00, 2.93094400e+00, 5.01777613e+00,\n",
       "        8.59043273e+00],\n",
       "       [1.00000000e+00, 2.81700000e+00, 7.93548900e+00, 2.23542725e+01,\n",
       "        6.29719857e+01],\n",
       "       [1.00000000e+00, 2.32000000e+00, 5.38240000e+00, 1.24871680e+01,\n",
       "        2.89702298e+01],\n",
       "       [1.00000000e+00, 1.94000000e+00, 3.76360000e+00, 7.30138400e+00,\n",
       "        1.41646850e+01],\n",
       "       [1.00000000e+00, 6.28000000e-01, 3.94384000e-01, 2.47673152e-01,\n",
       "        1.55538739e-01]])"
      ]
     },
     "execution_count": 986,
     "metadata": {},
     "output_type": "execute_result"
    }
   ],
   "source": [
    "X_poly_2021"
   ]
  },
  {
   "cell_type": "code",
   "execution_count": 987,
   "metadata": {},
   "outputs": [
    {
     "data": {
      "text/plain": [
       "array([[5.56733392],\n",
       "       [5.77686135],\n",
       "       [5.7493879 ],\n",
       "       [5.56482354],\n",
       "       [5.66517973],\n",
       "       [5.85595517],\n",
       "       [5.68320251],\n",
       "       [5.67289563],\n",
       "       [5.66389495],\n",
       "       [5.43673622],\n",
       "       [5.56231482],\n",
       "       [4.9918371 ],\n",
       "       [5.25944307],\n",
       "       [5.47928226],\n",
       "       [5.70906169],\n",
       "       [4.67354374],\n",
       "       [5.41868763],\n",
       "       [4.78881084],\n",
       "       [5.06037348],\n",
       "       [4.89813971],\n",
       "       [5.08566469],\n",
       "       [4.93764826],\n",
       "       [5.2639411 ],\n",
       "       [5.05436669],\n",
       "       [4.77708973],\n",
       "       [4.90433208],\n",
       "       [4.6782698 ],\n",
       "       [4.98992897],\n",
       "       [4.37713811],\n",
       "       [4.78097854],\n",
       "       [6.10447711],\n",
       "       [4.42151404],\n",
       "       [4.6300621 ],\n",
       "       [4.47206617],\n",
       "       [4.48990627],\n",
       "       [4.41565976],\n",
       "       [4.64015902],\n",
       "       [4.64914078],\n",
       "       [5.00334472],\n",
       "       [4.66419617],\n",
       "       [4.68645296],\n",
       "       [4.55720855],\n",
       "       [4.70383243],\n",
       "       [4.69058315],\n",
       "       [4.47033201],\n",
       "       [4.71233416],\n",
       "       [4.50867938],\n",
       "       [4.35180999],\n",
       "       [4.61221449],\n",
       "       [4.55937815],\n",
       "       [4.43243391],\n",
       "       [4.59611725],\n",
       "       [4.66751861],\n",
       "       [4.40049764],\n",
       "       [4.8298897 ],\n",
       "       [4.54493479],\n",
       "       [4.68851483],\n",
       "       [4.35441973],\n",
       "       [4.5943593 ],\n",
       "       [4.36149438],\n",
       "       [4.61040129],\n",
       "       [4.38873571],\n",
       "       [4.43668325],\n",
       "       [4.39038571],\n",
       "       [4.39338076],\n",
       "       [4.38873571],\n",
       "       [4.41098957],\n",
       "       [4.33385407],\n",
       "       [4.42003931],\n",
       "       [4.48581224],\n",
       "       [4.47688136],\n",
       "       [4.49451063],\n",
       "       [4.45927511],\n",
       "       [4.47732249],\n",
       "       [4.31675186],\n",
       "       [4.42523389],\n",
       "       [4.38319833],\n",
       "       [4.62075798],\n",
       "       [4.49082246],\n",
       "       [3.89376898],\n",
       "       [4.49036407],\n",
       "       [3.86754896],\n",
       "       [4.40921357],\n",
       "       [4.25991448],\n",
       "       [4.53197835],\n",
       "       [4.44536453],\n",
       "       [3.95936473],\n",
       "       [4.03760847],\n",
       "       [4.32149252],\n",
       "       [4.3768228 ],\n",
       "       [4.1950421 ],\n",
       "       [3.60142858],\n",
       "       [4.65694915],\n",
       "       [4.03760847],\n",
       "       [3.54150376],\n",
       "       [4.3110168 ],\n",
       "       [4.25195162],\n",
       "       [3.80156249],\n",
       "       [4.29637253],\n",
       "       [4.38873571],\n",
       "       [4.08809417],\n",
       "       [4.09782564],\n",
       "       [4.29331352],\n",
       "       [4.27853623],\n",
       "       [4.26488396],\n",
       "       [4.37776981],\n",
       "       [4.20163179],\n",
       "       [4.26644337],\n",
       "       [3.72391697],\n",
       "       [4.27418306],\n",
       "       [4.00667562],\n",
       "       [4.0140116 ],\n",
       "       [3.73210527],\n",
       "       [4.32977986],\n",
       "       [4.02569537],\n",
       "       [3.8005178 ],\n",
       "       [4.20228027],\n",
       "       [4.21241284],\n",
       "       [4.31701401],\n",
       "       [4.22654759],\n",
       "       [4.18859668],\n",
       "       [4.3644941 ],\n",
       "       [4.31518176],\n",
       "       [2.69401271],\n",
       "       [4.44456511],\n",
       "       [4.09017162],\n",
       "       [3.6975448 ],\n",
       "       [4.26175124],\n",
       "       [4.10673334],\n",
       "       [4.09274675],\n",
       "       [3.58048923],\n",
       "       [3.06844184],\n",
       "       [4.06077129],\n",
       "       [3.3679355 ],\n",
       "       [4.19803143],\n",
       "       [1.90853279],\n",
       "       [3.90680479],\n",
       "       [4.17946253],\n",
       "       [3.52813137],\n",
       "       [3.28858878],\n",
       "       [3.73789496],\n",
       "       [4.30868666],\n",
       "       [4.16463623],\n",
       "       [3.95477055],\n",
       "       [0.73997878]])"
      ]
     },
     "execution_count": 987,
     "metadata": {},
     "output_type": "execute_result"
    }
   ],
   "source": [
    "y_pred_2021 = clf.predict(X_poly_2021)\n",
    "\n",
    "y_pred_2021"
   ]
  },
  {
   "cell_type": "code",
   "execution_count": 988,
   "metadata": {},
   "outputs": [
    {
     "data": {
      "image/png": "[encoded data removed]",
      "text/plain": [
       "<Figure size 432x288 with 1 Axes>"
      ]
     },
     "metadata": {
      "needs_background": "light"
     },
     "output_type": "display_data"
    }
   ],
   "source": [
    "plt.scatter(sum_vals_2021, Y_vals_2021, color = 'red')\n",
    "\n",
    "plt.title('Sum of All Features (minus Dystopia) v. Happiness Score')\n",
    "plt.xlabel('GDP + HLE + SS + G + PC + FTMLC')\n",
    "plt.ylabel('Score')\n",
    "plt.show()"
   ]
  },
  {
   "cell_type": "code",
   "execution_count": 992,
   "metadata": {},
   "outputs": [
    {
     "data": {
      "image/png": "[encoded data removed]",
      "text/plain": [
       "<Figure size 432x288 with 1 Axes>"
      ]
     },
     "metadata": {
      "needs_background": "light"
     },
     "output_type": "display_data"
    }
   ],
   "source": [
    "# Our 2021 data points juxtaposed to the model generated from 2019 data\n",
    "\n",
    "X_grid = np.arange(min(sum_vals_2021), max(sum_vals_2021), 0.1)\n",
    "X_grid = X_grid.reshape((len(X_grid), 1))\n",
    "plt.scatter(sum_vals_2021, Y_vals_2021, color = 'red')\n",
    "plt.scatter(sum_vals, poly_y_pred, color = 'green')\n",
    "plt.plot(X_grid, clf.predict(poly_reg.fit_transform(X_grid)), color = 'black')\n",
    "plt.title('2021 Polynomial Regression with our 2019 Polynomial Regression Model')\n",
    "plt.xlabel('Features')\n",
    "plt.ylabel('Score')\n",
    "plt.show()"
   ]
  },
  {
   "cell_type": "code",
   "execution_count": 990,
   "metadata": {},
   "outputs": [
    {
     "name": "stdout",
     "output_type": "stream",
     "text": [
      "0.7764594991564677\n"
     ]
    }
   ],
   "source": [
    "r2_poly_2021 = sklearn.metrics.r2_score(Y_vals_2021, poly_y_pred, sample_weight=None, multioutput='uniform_average')\n",
    "\n",
    "print(r2_poly_2021)"
   ]
  },
  {
   "cell_type": "code",
   "execution_count": 994,
   "metadata": {},
   "outputs": [
    {
     "name": "stdout",
     "output_type": "stream",
     "text": [
      "0.26126015152265364\n"
     ]
    }
   ],
   "source": [
    "rmse_2021 = sklearn.metrics.mean_squared_error(Y_vals_2021, poly_y_pred)\n",
    "\n",
    "print(rmse_2021)"
   ]
  },
  {
   "cell_type": "code",
   "execution_count": 996,
   "metadata": {},
   "outputs": [
    {
     "name": "stdout",
     "output_type": "stream",
     "text": [
      "0.48199974509749266\n"
     ]
    }
   ],
   "source": [
    "rmse_2019 = sklearn.metrics.mean_squared_error(happiness_Y2, y_pred)\n",
    "\n",
    "print(rmse_2019)"
   ]
  }
 ],
 "metadata": {
  "kernelspec": {
   "display_name": "Python 3",
   "language": "python",
   "name": "python3"
  },
  "language_info": {
   "codemirror_mode": {
    "name": "ipython",
    "version": 3
   },
   "file_extension": ".py",
   "mimetype": "text/x-python",
   "name": "python",
   "nbconvert_exporter": "python",
   "pygments_lexer": "ipython3",
   "version": "3.8.5"
  }
 },
 "nbformat": 4,
 "nbformat_minor": 4
}
